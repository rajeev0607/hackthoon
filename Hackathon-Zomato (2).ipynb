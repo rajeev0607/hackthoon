{
 "cells": [
  {
   "cell_type": "markdown",
   "id": "120cbe1a-efbf-4b8e-83bb-00d408c05ba7",
   "metadata": {},
   "source": [
    "### Import Necessary Libraries"
   ]
  },
  {
   "cell_type": "code",
   "execution_count": 1,
   "id": "8aa9bd26-a6c0-4fb7-a1a2-d12d1e98b9cd",
   "metadata": {},
   "outputs": [
    {
     "ename": "ModuleNotFoundError",
     "evalue": "No module named 'geopy'",
     "output_type": "error",
     "traceback": [
      "\u001b[0;31m---------------------------------------------------------------------------\u001b[0m",
      "\u001b[0;31mModuleNotFoundError\u001b[0m                       Traceback (most recent call last)",
      "Cell \u001b[0;32mIn[1], line 5\u001b[0m\n\u001b[1;32m      3\u001b[0m \u001b[38;5;28;01mimport\u001b[39;00m \u001b[38;5;21;01mmatplotlib\u001b[39;00m\u001b[38;5;21;01m.\u001b[39;00m\u001b[38;5;21;01mpyplot\u001b[39;00m \u001b[38;5;28;01mas\u001b[39;00m \u001b[38;5;21;01mplt\u001b[39;00m\n\u001b[1;32m      4\u001b[0m \u001b[38;5;28;01mimport\u001b[39;00m \u001b[38;5;21;01mseaborn\u001b[39;00m \u001b[38;5;28;01mas\u001b[39;00m \u001b[38;5;21;01msns\u001b[39;00m\n\u001b[0;32m----> 5\u001b[0m \u001b[38;5;28;01mfrom\u001b[39;00m \u001b[38;5;21;01mgeopy\u001b[39;00m\u001b[38;5;21;01m.\u001b[39;00m\u001b[38;5;21;01mgeocoders\u001b[39;00m \u001b[38;5;28;01mimport\u001b[39;00m Nominatim\n\u001b[1;32m      6\u001b[0m \u001b[38;5;28;01mfrom\u001b[39;00m \u001b[38;5;21;01mgeopy\u001b[39;00m\u001b[38;5;21;01m.\u001b[39;00m\u001b[38;5;21;01mexc\u001b[39;00m \u001b[38;5;28;01mimport\u001b[39;00m GeocoderTimedOut\n\u001b[1;32m      7\u001b[0m \u001b[38;5;28;01mfrom\u001b[39;00m \u001b[38;5;21;01mIPython\u001b[39;00m\u001b[38;5;21;01m.\u001b[39;00m\u001b[38;5;21;01mcore\u001b[39;00m\u001b[38;5;21;01m.\u001b[39;00m\u001b[38;5;21;01mdisplay\u001b[39;00m \u001b[38;5;28;01mimport\u001b[39;00m display, HTML\n",
      "\u001b[0;31mModuleNotFoundError\u001b[0m: No module named 'geopy'"
     ]
    }
   ],
   "source": [
    "import pandas as pd\n",
    "import numpy as np\n",
    "import matplotlib.pyplot as plt\n",
    "import seaborn as sns\n",
    "from geopy.geocoders import Nominatim\n",
    "from geopy.exc import GeocoderTimedOut\n",
    "from IPython.core.display import display, HTML\n",
    "import time"
   ]
  },
  {
   "cell_type": "markdown",
   "id": "d19242b8-be27-45b3-9594-b045cbb1e2d6",
   "metadata": {},
   "source": [
    "### There is no geopy module we have to install it"
   ]
  },
  {
   "cell_type": "code",
   "execution_count": 5,
   "id": "6229b691-9b5d-402e-864b-ace7c95b56c9",
   "metadata": {},
   "outputs": [
    {
     "name": "stdout",
     "output_type": "stream",
     "text": [
      "Collecting geopy\n",
      "  Downloading geopy-2.4.1-py3-none-any.whl.metadata (6.8 kB)\n",
      "Collecting geographiclib<3,>=1.52 (from geopy)\n",
      "  Downloading geographiclib-2.0-py3-none-any.whl.metadata (1.4 kB)\n",
      "Downloading geopy-2.4.1-py3-none-any.whl (125 kB)\n",
      "Downloading geographiclib-2.0-py3-none-any.whl (40 kB)\n",
      "Installing collected packages: geographiclib, geopy\n",
      "Successfully installed geographiclib-2.0 geopy-2.4.1\n",
      "Note: you may need to restart the kernel to use updated packages.\n"
     ]
    }
   ],
   "source": [
    "pip install geopy"
   ]
  },
  {
   "cell_type": "markdown",
   "id": "7e24abb3-d784-4938-9fe8-7c6b4fcfe899",
   "metadata": {},
   "source": [
    "### Now importing the Geopy Module "
   ]
  },
  {
   "cell_type": "code",
   "execution_count": 7,
   "id": "5684ee86-796b-4f87-8bd8-4e21fbdfea4e",
   "metadata": {},
   "outputs": [],
   "source": [
    "from geopy.exc import GeocoderTimedOut"
   ]
  },
  {
   "cell_type": "markdown",
   "id": "3b84b092-3435-4e4f-9be2-0f4d353ca1b8",
   "metadata": {},
   "source": [
    "## Load the Dataset"
   ]
  },
  {
   "cell_type": "code",
   "execution_count": 53,
   "id": "7167a526-6a20-4ba1-845f-7f4a424a3eca",
   "metadata": {},
   "outputs": [],
   "source": [
    "zomatoData = pd.read_csv(\"/Users/rajeevb/Downloads/zomato_data.csv\") "
   ]
  },
  {
   "cell_type": "code",
   "execution_count": 55,
   "id": "caa2d9a4-824b-414b-9450-53757f0727ad",
   "metadata": {},
   "outputs": [
    {
     "data": {
      "text/html": [
       "<div>\n",
       "<style scoped>\n",
       "    .dataframe tbody tr th:only-of-type {\n",
       "        vertical-align: middle;\n",
       "    }\n",
       "\n",
       "    .dataframe tbody tr th {\n",
       "        vertical-align: top;\n",
       "    }\n",
       "\n",
       "    .dataframe thead th {\n",
       "        text-align: right;\n",
       "    }\n",
       "</style>\n",
       "<table border=\"1\" class=\"dataframe\">\n",
       "  <thead>\n",
       "    <tr style=\"text-align: right;\">\n",
       "      <th></th>\n",
       "      <th>online_order</th>\n",
       "      <th>book_table</th>\n",
       "      <th>rate</th>\n",
       "      <th>votes</th>\n",
       "      <th>rest_type</th>\n",
       "      <th>dish_liked</th>\n",
       "      <th>cuisines</th>\n",
       "      <th>approx_costfor_two_people</th>\n",
       "      <th>listed_intype</th>\n",
       "      <th>listed_incity</th>\n",
       "    </tr>\n",
       "  </thead>\n",
       "  <tbody>\n",
       "    <tr>\n",
       "      <th>0</th>\n",
       "      <td>Yes</td>\n",
       "      <td>Yes</td>\n",
       "      <td>4.1/5</td>\n",
       "      <td>775</td>\n",
       "      <td>Casual Dining</td>\n",
       "      <td>Pasta, Lunch Buffet, Masala Papad, Paneer Laja...</td>\n",
       "      <td>North Indian, Mughlai, Chinese</td>\n",
       "      <td>800</td>\n",
       "      <td>Buffet</td>\n",
       "      <td>Banashankari</td>\n",
       "    </tr>\n",
       "    <tr>\n",
       "      <th>1</th>\n",
       "      <td>Yes</td>\n",
       "      <td>No</td>\n",
       "      <td>4.1/5</td>\n",
       "      <td>787</td>\n",
       "      <td>Casual Dining</td>\n",
       "      <td>Momos, Lunch Buffet, Chocolate Nirvana, Thai G...</td>\n",
       "      <td>Chinese, North Indian, Thai</td>\n",
       "      <td>800</td>\n",
       "      <td>Buffet</td>\n",
       "      <td>Banashankari</td>\n",
       "    </tr>\n",
       "    <tr>\n",
       "      <th>2</th>\n",
       "      <td>Yes</td>\n",
       "      <td>No</td>\n",
       "      <td>3.8/5</td>\n",
       "      <td>918</td>\n",
       "      <td>Cafe, Casual Dining</td>\n",
       "      <td>Churros, Cannelloni, Minestrone Soup, Hot Choc...</td>\n",
       "      <td>Cafe, Mexican, Italian</td>\n",
       "      <td>800</td>\n",
       "      <td>Buffet</td>\n",
       "      <td>Banashankari</td>\n",
       "    </tr>\n",
       "    <tr>\n",
       "      <th>3</th>\n",
       "      <td>No</td>\n",
       "      <td>No</td>\n",
       "      <td>3.7/5</td>\n",
       "      <td>88</td>\n",
       "      <td>Quick Bites</td>\n",
       "      <td>Masala Dosa</td>\n",
       "      <td>South Indian, North Indian</td>\n",
       "      <td>300</td>\n",
       "      <td>Buffet</td>\n",
       "      <td>Banashankari</td>\n",
       "    </tr>\n",
       "    <tr>\n",
       "      <th>4</th>\n",
       "      <td>No</td>\n",
       "      <td>No</td>\n",
       "      <td>3.8/5</td>\n",
       "      <td>166</td>\n",
       "      <td>Casual Dining</td>\n",
       "      <td>Panipuri, Gol Gappe</td>\n",
       "      <td>North Indian, Rajasthani</td>\n",
       "      <td>600</td>\n",
       "      <td>Buffet</td>\n",
       "      <td>Banashankari</td>\n",
       "    </tr>\n",
       "    <tr>\n",
       "      <th>...</th>\n",
       "      <td>...</td>\n",
       "      <td>...</td>\n",
       "      <td>...</td>\n",
       "      <td>...</td>\n",
       "      <td>...</td>\n",
       "      <td>...</td>\n",
       "      <td>...</td>\n",
       "      <td>...</td>\n",
       "      <td>...</td>\n",
       "      <td>...</td>\n",
       "    </tr>\n",
       "    <tr>\n",
       "      <th>51712</th>\n",
       "      <td>No</td>\n",
       "      <td>No</td>\n",
       "      <td>3.6 /5</td>\n",
       "      <td>27</td>\n",
       "      <td>Bar</td>\n",
       "      <td>NaN</td>\n",
       "      <td>Continental</td>\n",
       "      <td>1,500</td>\n",
       "      <td>Pubs and bars</td>\n",
       "      <td>Whitefield</td>\n",
       "    </tr>\n",
       "    <tr>\n",
       "      <th>51713</th>\n",
       "      <td>No</td>\n",
       "      <td>No</td>\n",
       "      <td>NaN</td>\n",
       "      <td>0</td>\n",
       "      <td>Bar</td>\n",
       "      <td>NaN</td>\n",
       "      <td>Finger Food</td>\n",
       "      <td>600</td>\n",
       "      <td>Pubs and bars</td>\n",
       "      <td>Whitefield</td>\n",
       "    </tr>\n",
       "    <tr>\n",
       "      <th>51714</th>\n",
       "      <td>No</td>\n",
       "      <td>No</td>\n",
       "      <td>NaN</td>\n",
       "      <td>0</td>\n",
       "      <td>Bar</td>\n",
       "      <td>NaN</td>\n",
       "      <td>Finger Food</td>\n",
       "      <td>2,000</td>\n",
       "      <td>Pubs and bars</td>\n",
       "      <td>Whitefield</td>\n",
       "    </tr>\n",
       "    <tr>\n",
       "      <th>51715</th>\n",
       "      <td>No</td>\n",
       "      <td>Yes</td>\n",
       "      <td>4.3 /5</td>\n",
       "      <td>236</td>\n",
       "      <td>Bar</td>\n",
       "      <td>Cocktails, Pizza, Buttermilk</td>\n",
       "      <td>Finger Food</td>\n",
       "      <td>2,500</td>\n",
       "      <td>Pubs and bars</td>\n",
       "      <td>Whitefield</td>\n",
       "    </tr>\n",
       "    <tr>\n",
       "      <th>51716</th>\n",
       "      <td>No</td>\n",
       "      <td>No</td>\n",
       "      <td>3.4 /5</td>\n",
       "      <td>13</td>\n",
       "      <td>Bar, Casual Dining</td>\n",
       "      <td>NaN</td>\n",
       "      <td>Finger Food, North Indian, Continental</td>\n",
       "      <td>1,500</td>\n",
       "      <td>Pubs and bars</td>\n",
       "      <td>Whitefield</td>\n",
       "    </tr>\n",
       "  </tbody>\n",
       "</table>\n",
       "<p>51717 rows × 10 columns</p>\n",
       "</div>"
      ],
      "text/plain": [
       "      online_order book_table    rate  votes            rest_type  \\\n",
       "0              Yes        Yes   4.1/5    775        Casual Dining   \n",
       "1              Yes         No   4.1/5    787        Casual Dining   \n",
       "2              Yes         No   3.8/5    918  Cafe, Casual Dining   \n",
       "3               No         No   3.7/5     88          Quick Bites   \n",
       "4               No         No   3.8/5    166        Casual Dining   \n",
       "...            ...        ...     ...    ...                  ...   \n",
       "51712           No         No  3.6 /5     27                  Bar   \n",
       "51713           No         No     NaN      0                  Bar   \n",
       "51714           No         No     NaN      0                  Bar   \n",
       "51715           No        Yes  4.3 /5    236                  Bar   \n",
       "51716           No         No  3.4 /5     13   Bar, Casual Dining   \n",
       "\n",
       "                                              dish_liked  \\\n",
       "0      Pasta, Lunch Buffet, Masala Papad, Paneer Laja...   \n",
       "1      Momos, Lunch Buffet, Chocolate Nirvana, Thai G...   \n",
       "2      Churros, Cannelloni, Minestrone Soup, Hot Choc...   \n",
       "3                                            Masala Dosa   \n",
       "4                                    Panipuri, Gol Gappe   \n",
       "...                                                  ...   \n",
       "51712                                                NaN   \n",
       "51713                                                NaN   \n",
       "51714                                                NaN   \n",
       "51715                       Cocktails, Pizza, Buttermilk   \n",
       "51716                                                NaN   \n",
       "\n",
       "                                     cuisines approx_costfor_two_people  \\\n",
       "0              North Indian, Mughlai, Chinese                       800   \n",
       "1                 Chinese, North Indian, Thai                       800   \n",
       "2                      Cafe, Mexican, Italian                       800   \n",
       "3                  South Indian, North Indian                       300   \n",
       "4                    North Indian, Rajasthani                       600   \n",
       "...                                       ...                       ...   \n",
       "51712                             Continental                     1,500   \n",
       "51713                             Finger Food                       600   \n",
       "51714                             Finger Food                     2,000   \n",
       "51715                             Finger Food                     2,500   \n",
       "51716  Finger Food, North Indian, Continental                     1,500   \n",
       "\n",
       "       listed_intype listed_incity  \n",
       "0             Buffet  Banashankari  \n",
       "1             Buffet  Banashankari  \n",
       "2             Buffet  Banashankari  \n",
       "3             Buffet  Banashankari  \n",
       "4             Buffet  Banashankari  \n",
       "...              ...           ...  \n",
       "51712  Pubs and bars    Whitefield  \n",
       "51713  Pubs and bars    Whitefield  \n",
       "51714  Pubs and bars    Whitefield  \n",
       "51715  Pubs and bars    Whitefield  \n",
       "51716  Pubs and bars    Whitefield  \n",
       "\n",
       "[51717 rows x 10 columns]"
      ]
     },
     "execution_count": 55,
     "metadata": {},
     "output_type": "execute_result"
    }
   ],
   "source": [
    "zomatoData"
   ]
  },
  {
   "cell_type": "markdown",
   "id": "6e1540e7-4f25-4aa9-bc32-625d815bd17d",
   "metadata": {},
   "source": [
    "###  Infomation of the Dataset"
   ]
  },
  {
   "cell_type": "code",
   "execution_count": 57,
   "id": "85000486-5886-47b4-a7af-f114b866adbd",
   "metadata": {},
   "outputs": [
    {
     "name": "stdout",
     "output_type": "stream",
     "text": [
      "<class 'pandas.core.frame.DataFrame'>\n",
      "RangeIndex: 51717 entries, 0 to 51716\n",
      "Data columns (total 10 columns):\n",
      " #   Column                     Non-Null Count  Dtype \n",
      "---  ------                     --------------  ----- \n",
      " 0   online_order               51717 non-null  object\n",
      " 1   book_table                 51717 non-null  object\n",
      " 2   rate                       43942 non-null  object\n",
      " 3   votes                      51717 non-null  int64 \n",
      " 4   rest_type                  51490 non-null  object\n",
      " 5   dish_liked                 23639 non-null  object\n",
      " 6   cuisines                   51672 non-null  object\n",
      " 7   approx_costfor_two_people  51371 non-null  object\n",
      " 8   listed_intype              51717 non-null  object\n",
      " 9   listed_incity              51717 non-null  object\n",
      "dtypes: int64(1), object(9)\n",
      "memory usage: 3.9+ MB\n"
     ]
    }
   ],
   "source": [
    "zomatoData.info()"
   ]
  },
  {
   "cell_type": "markdown",
   "id": "f0323882-27d6-4137-9900-aa6c3d4f2a73",
   "metadata": {},
   "source": [
    "### Here we can see that some columns have missing values:\n",
    "- 'rate', 'rest_type', and 'dish_liked' have fewer non-null entries, indicating missing data.\n",
    "- All other columns are complete (no missing values).\n",
    "- Also, most columns are of type 'object', except for 'votes', which is an integer"
   ]
  },
  {
   "cell_type": "markdown",
   "id": "78758931-2afb-4221-b5e1-c394db5e2cb0",
   "metadata": {},
   "source": [
    "### First of all what is meaning of missing and no missing values"
   ]
  },
  {
   "cell_type": "markdown",
   "id": "cb4f41eb-6142-4fe0-9071-90fd47f58e21",
   "metadata": {},
   "source": [
    "### \"Non-null\" means \"not empty\" or \"not missing\".\n",
    "\n",
    "In your dataset, when it says, for example, rate 43942 non-null, it means that out of 51,717 rows, 43,942 rows have a value for rate, and the rest (about 7,775 rows) are missing or empty.\n",
    "#### In short:\n",
    "- Non-null = value is present.\n",
    "- Null = value is missing."
   ]
  },
  {
   "cell_type": "markdown",
   "id": "e82516c7-99b8-4607-ad31-fa0bbe07e25c",
   "metadata": {},
   "source": [
    "# Main Objective\n",
    "- Clean and preprocess the data\n",
    "- Perform exploratory data analysis (EDA)\n",
    "- Merge location data for mapping\n",
    "- Extract actionable insights\n"
   ]
  },
  {
   "cell_type": "markdown",
   "id": "b51afe82-5caf-4ced-a016-f90c7194b891",
   "metadata": {},
   "source": [
    "### so what we have to do is clean the data, analyze it through EDA, map it with location information, and finally extract meaningful insights.\n"
   ]
  },
  {
   "cell_type": "markdown",
   "id": "db81042e-bcf9-4e33-8630-f073beb49d2b",
   "metadata": {},
   "source": [
    "## Initilaze the first step \n",
    "### Step - 1: \" Clean and preprocess the data\"\n",
    "        1.1 - Rating Column (rate)\n"
   ]
  },
  {
   "cell_type": "code",
   "execution_count": 59,
   "id": "7dca48bc-623e-4fc4-b692-dff46581b986",
   "metadata": {},
   "outputs": [
    {
     "data": {
      "text/plain": [
       "0         4.1/5\n",
       "1         4.1/5\n",
       "2         3.8/5\n",
       "3         3.7/5\n",
       "4         3.8/5\n",
       "          ...  \n",
       "51712    3.6 /5\n",
       "51713       NaN\n",
       "51714       NaN\n",
       "51715    4.3 /5\n",
       "51716    3.4 /5\n",
       "Name: rate, Length: 51717, dtype: object"
      ]
     },
     "execution_count": 59,
     "metadata": {},
     "output_type": "execute_result"
    }
   ],
   "source": [
    "zomatoData['rate'] \n"
   ]
  },
  {
   "cell_type": "code",
   "execution_count": 63,
   "id": "11d5745d-7d60-4a4e-8563-687ec97a6710",
   "metadata": {},
   "outputs": [],
   "source": [
    "zomatoData['rate'].fillna(\"-\", inplace=True)\n"
   ]
  },
  {
   "cell_type": "code",
   "execution_count": 65,
   "id": "65e194c0-32a9-4941-8c95-b8758834de40",
   "metadata": {},
   "outputs": [
    {
     "data": {
      "text/plain": [
       "0"
      ]
     },
     "execution_count": 65,
     "metadata": {},
     "output_type": "execute_result"
    }
   ],
   "source": [
    "zomatoData['rate'].isnull().sum()"
   ]
  },
  {
   "cell_type": "markdown",
   "id": "48801869-d077-4ef5-9199-b1c3d5386e98",
   "metadata": {},
   "source": [
    "- 1.2 Remove /5 and retain only the numeric value"
   ]
  },
  {
   "cell_type": "code",
   "execution_count": 68,
   "id": "1dee84cc-cbce-4051-8583-42a8e44e0f69",
   "metadata": {},
   "outputs": [],
   "source": [
    "zomatoData['rate'] = zomatoData['rate'].str.replace(r'/5', '', regex=True)\n"
   ]
  },
  {
   "cell_type": "code",
   "execution_count": 70,
   "id": "76bf8b00-7b82-4b49-9f3e-a854812944a9",
   "metadata": {},
   "outputs": [
    {
     "data": {
      "text/plain": [
       "0         4.1\n",
       "1         4.1\n",
       "2         3.8\n",
       "3         3.7\n",
       "4         3.8\n",
       "         ... \n",
       "51712    3.6 \n",
       "51713       -\n",
       "51714       -\n",
       "51715    4.3 \n",
       "51716    3.4 \n",
       "Name: rate, Length: 51717, dtype: object"
      ]
     },
     "execution_count": 70,
     "metadata": {},
     "output_type": "execute_result"
    }
   ],
   "source": [
    "zomatoData['rate'] "
   ]
  },
  {
   "cell_type": "markdown",
   "id": "a3418c89-d6c4-46b1-98fc-4e56f29e27f4",
   "metadata": {},
   "source": [
    "- 1.3 Convert to float using pd.to_numeric()\n"
   ]
  },
  {
   "cell_type": "code",
   "execution_count": 74,
   "id": "1a13b4ac-8c79-4b0f-9499-000ad1cd5c78",
   "metadata": {},
   "outputs": [],
   "source": [
    "zomatoData['rate']  = pd.to_numeric(zomatoData['rate'] , errors='coerce')\n"
   ]
  },
  {
   "cell_type": "code",
   "execution_count": 76,
   "id": "87582e44-0085-45b7-bc8c-83d6ff798182",
   "metadata": {},
   "outputs": [
    {
     "data": {
      "text/plain": [
       "0        4.1\n",
       "1        4.1\n",
       "2        3.8\n",
       "3        3.7\n",
       "4        3.8\n",
       "        ... \n",
       "51712    3.6\n",
       "51713    NaN\n",
       "51714    NaN\n",
       "51715    4.3\n",
       "51716    3.4\n",
       "Name: rate, Length: 51717, dtype: float64"
      ]
     },
     "execution_count": 76,
     "metadata": {},
     "output_type": "execute_result"
    }
   ],
   "source": [
    "zomatoData['rate']"
   ]
  },
  {
   "cell_type": "code",
   "execution_count": 78,
   "id": "baa194e0-9167-4940-b962-468851395694",
   "metadata": {},
   "outputs": [
    {
     "name": "stdout",
     "output_type": "stream",
     "text": [
      "<class 'pandas.core.series.Series'>\n",
      "RangeIndex: 51717 entries, 0 to 51716\n",
      "Series name: rate\n",
      "Non-Null Count  Dtype  \n",
      "--------------  -----  \n",
      "41665 non-null  float64\n",
      "dtypes: float64(1)\n",
      "memory usage: 404.2 KB\n"
     ]
    }
   ],
   "source": [
    "zomatoData['rate'].info()"
   ]
  },
  {
   "cell_type": "markdown",
   "id": "7702e08c-35cf-4c7f-8fa1-633ec4f8bf61",
   "metadata": {},
   "source": [
    "- 1.4]. Fill missing values using the median rating"
   ]
  },
  {
   "cell_type": "code",
   "execution_count": 86,
   "id": "4653aa09-4d95-4abc-a39d-265fffd38de9",
   "metadata": {},
   "outputs": [],
   "source": [
    "median_rating = zomatoData['rate'].median()\n",
    "zomatoData['rate'].fillna(median_rating, inplace=True)"
   ]
  },
  {
   "cell_type": "code",
   "execution_count": 88,
   "id": "a3362acb-8196-4985-9c4c-c0d48881a736",
   "metadata": {},
   "outputs": [
    {
     "data": {
      "text/plain": [
       "0        4.1\n",
       "1        4.1\n",
       "2        3.8\n",
       "3        3.7\n",
       "4        3.8\n",
       "        ... \n",
       "51712    3.6\n",
       "51713    3.7\n",
       "51714    3.7\n",
       "51715    4.3\n",
       "51716    3.4\n",
       "Name: rate, Length: 51717, dtype: float64"
      ]
     },
     "execution_count": 88,
     "metadata": {},
     "output_type": "execute_result"
    }
   ],
   "source": [
    "zomatoData['rate']"
   ]
  },
  {
   "cell_type": "markdown",
   "id": "dc245ebd-f9e0-4b63-bcad-ea9e989700bc",
   "metadata": {},
   "source": [
    "## Step 2: Cost Column (approx_costfor_two_people)\n"
   ]
  },
  {
   "cell_type": "markdown",
   "id": "45587266-c1b1-4ec8-b577-31f2542b34ed",
   "metadata": {},
   "source": [
    "- 2.1] Remove commas from numeric strings ('1,000' → '1000')\n"
   ]
  },
  {
   "cell_type": "code",
   "execution_count": 92,
   "id": "b7476abb-d0d1-4f0a-9700-599ccffa7ae3",
   "metadata": {},
   "outputs": [],
   "source": [
    "zomatoData['approx_costfor_two_people'] = zomatoData['approx_costfor_two_people'].str.replace(',', '').astype(float)\n"
   ]
  },
  {
   "cell_type": "code",
   "execution_count": 94,
   "id": "af5c1536-07cb-4a16-9221-5cfc991272ee",
   "metadata": {},
   "outputs": [
    {
     "data": {
      "text/plain": [
       "0         800.0\n",
       "1         800.0\n",
       "2         800.0\n",
       "3         300.0\n",
       "4         600.0\n",
       "          ...  \n",
       "51712    1500.0\n",
       "51713     600.0\n",
       "51714    2000.0\n",
       "51715    2500.0\n",
       "51716    1500.0\n",
       "Name: approx_costfor_two_people, Length: 51717, dtype: float64"
      ]
     },
     "execution_count": 94,
     "metadata": {},
     "output_type": "execute_result"
    }
   ],
   "source": [
    "zomatoData['approx_costfor_two_people']"
   ]
  },
  {
   "cell_type": "markdown",
   "id": "30a3f42f-9942-4082-afb7-b5be21a496f9",
   "metadata": {},
   "source": [
    "- 2.2].Convert to numeric"
   ]
  },
  {
   "cell_type": "code",
   "execution_count": 97,
   "id": "9de54282-244e-46e2-ae7f-fb12a062b020",
   "metadata": {},
   "outputs": [],
   "source": [
    "zomatoData['approx_costfor_two_people'] = pd.to_numeric(zomatoData['approx_costfor_two_people'], errors='coerce')\n"
   ]
  },
  {
   "cell_type": "code",
   "execution_count": 99,
   "id": "56accb8e-f444-4da3-867c-539031a731eb",
   "metadata": {},
   "outputs": [
    {
     "data": {
      "text/plain": [
       "0         800.0\n",
       "1         800.0\n",
       "2         800.0\n",
       "3         300.0\n",
       "4         600.0\n",
       "          ...  \n",
       "51712    1500.0\n",
       "51713     600.0\n",
       "51714    2000.0\n",
       "51715    2500.0\n",
       "51716    1500.0\n",
       "Name: approx_costfor_two_people, Length: 51717, dtype: float64"
      ]
     },
     "execution_count": 99,
     "metadata": {},
     "output_type": "execute_result"
    }
   ],
   "source": [
    "zomatoData['approx_costfor_two_people']"
   ]
  },
  {
   "cell_type": "code",
   "execution_count": 101,
   "id": "a9dfa247-68ae-49cf-9d97-05f1277397c9",
   "metadata": {},
   "outputs": [
    {
     "name": "stdout",
     "output_type": "stream",
     "text": [
      "<class 'pandas.core.series.Series'>\n",
      "RangeIndex: 51717 entries, 0 to 51716\n",
      "Series name: approx_costfor_two_people\n",
      "Non-Null Count  Dtype  \n",
      "--------------  -----  \n",
      "51371 non-null  float64\n",
      "dtypes: float64(1)\n",
      "memory usage: 404.2 KB\n"
     ]
    }
   ],
   "source": [
    "zomatoData['approx_costfor_two_people'].info()"
   ]
  },
  {
   "cell_type": "code",
   "execution_count": null,
   "id": "9b712780-f3f8-40f4-95c9-29cddd627ff1",
   "metadata": {},
   "outputs": [],
   "source": []
  },
  {
   "cell_type": "markdown",
   "id": "2ab3c1c5-f327-4488-811b-998cecaeb2b1",
   "metadata": {},
   "source": [
    "- Here dtype object is converted to float"
   ]
  },
  {
   "cell_type": "markdown",
   "id": "366b89be-ac22-49fd-91ac-185579c9b023",
   "metadata": {},
   "source": [
    "- 2.3].Fill missing values using the median cost\n"
   ]
  },
  {
   "cell_type": "code",
   "execution_count": null,
   "id": "f5cf1620-72e5-4d4b-a32c-9a2b6a6328a7",
   "metadata": {},
   "outputs": [],
   "source": []
  },
  {
   "cell_type": "code",
   "execution_count": 106,
   "id": "50ccfb06-e5b5-4742-aec1-0abb87f1a79a",
   "metadata": {},
   "outputs": [],
   "source": [
    "median_cost = zomatoData['approx_costfor_two_people'].median()\n",
    "zomatoData['approx_costfor_two_people'].fillna(median_cost, inplace=True)"
   ]
  },
  {
   "cell_type": "code",
   "execution_count": 108,
   "id": "e1fb929c-ff50-492f-ae78-f9abf5c233df",
   "metadata": {},
   "outputs": [
    {
     "data": {
      "text/plain": [
       "0"
      ]
     },
     "execution_count": 108,
     "metadata": {},
     "output_type": "execute_result"
    }
   ],
   "source": [
    "zomatoData['approx_costfor_two_people'].isnull().sum()"
   ]
  },
  {
   "cell_type": "code",
   "execution_count": 112,
   "id": "1a8b41c9-5414-44fb-847b-994082765ea7",
   "metadata": {},
   "outputs": [
    {
     "data": {
      "text/plain": [
       "400.0"
      ]
     },
     "execution_count": 112,
     "metadata": {},
     "output_type": "execute_result"
    }
   ],
   "source": [
    "zomatoData['approx_costfor_two_people'].median()"
   ]
  },
  {
   "cell_type": "code",
   "execution_count": 120,
   "id": "e54504a1-2429-4353-98fe-8133cb960e37",
   "metadata": {},
   "outputs": [
    {
     "data": {
      "text/plain": [
       "0     800.0\n",
       "1     800.0\n",
       "2     800.0\n",
       "3     300.0\n",
       "4     600.0\n",
       "      ...  \n",
       "95    800.0\n",
       "96    250.0\n",
       "97    950.0\n",
       "98    300.0\n",
       "99    400.0\n",
       "Name: approx_costfor_two_people, Length: 100, dtype: float64"
      ]
     },
     "execution_count": 120,
     "metadata": {},
     "output_type": "execute_result"
    }
   ],
   "source": [
    "zomatoData['approx_costfor_two_people'].head(100)"
   ]
  },
  {
   "cell_type": "markdown",
   "id": "b5e63012-0398-429d-9a18-a0ad017b6f79",
   "metadata": {},
   "source": [
    "## Step 3: Categorical Columns"
   ]
  },
  {
   "cell_type": "markdown",
   "id": "08ca962f-b188-4db1-94e6-30f418e28dfc",
   "metadata": {},
   "source": [
    "- 3.1].dish_liked → Replace NaN with \"Not Available\"\n"
   ]
  },
  {
   "cell_type": "code",
   "execution_count": 128,
   "id": "4e8cc1cb-87f9-4034-a8e2-4aba2e028a2c",
   "metadata": {},
   "outputs": [
    {
     "data": {
      "text/plain": [
       "28078"
      ]
     },
     "execution_count": 128,
     "metadata": {},
     "output_type": "execute_result"
    }
   ],
   "source": [
    "zomatoData[\"dish_liked\"].isnull().sum()"
   ]
  },
  {
   "cell_type": "code",
   "execution_count": 130,
   "id": "15a29a54-1248-407b-b8e7-eaab58239388",
   "metadata": {},
   "outputs": [],
   "source": [
    "zomatoData[\"dish_liked\"].fillna('Not Available', inplace=True)"
   ]
  },
  {
   "cell_type": "code",
   "execution_count": 132,
   "id": "1a24bd76-9474-478c-8b08-e5206b481c1b",
   "metadata": {},
   "outputs": [
    {
     "data": {
      "text/plain": [
       "0"
      ]
     },
     "execution_count": 132,
     "metadata": {},
     "output_type": "execute_result"
    }
   ],
   "source": [
    "zomatoData[\"dish_liked\"].isnull().sum()"
   ]
  },
  {
   "cell_type": "markdown",
   "id": "bf3adf0a-832a-454c-90d1-4d86dd7a2c73",
   "metadata": {},
   "source": [
    "- 3.2].cuisines → Replace NaN with \"Other\""
   ]
  },
  {
   "cell_type": "code",
   "execution_count": 153,
   "id": "41f66a9a-b248-4a7d-b7cd-60310af18d3b",
   "metadata": {},
   "outputs": [
    {
     "name": "stdout",
     "output_type": "stream",
     "text": [
      "Before cuisines change Nan to other, Nan values count is :\n"
     ]
    },
    {
     "data": {
      "text/plain": [
       "0"
      ]
     },
     "execution_count": 153,
     "metadata": {},
     "output_type": "execute_result"
    }
   ],
   "source": [
    "print(\"Before cuisines change Nan to other, Nan values count is :\")\n",
    "\n",
    "zomatoData[\"cuisines\"].isnull().sum()"
   ]
  },
  {
   "cell_type": "code",
   "execution_count": 139,
   "id": "100c176f-e3a8-4c34-a78c-e254bbe28877",
   "metadata": {},
   "outputs": [],
   "source": [
    "zomatoData[\"cuisines\"].fillna('Other', inplace=True)"
   ]
  },
  {
   "cell_type": "code",
   "execution_count": 151,
   "id": "aad1795f-46b7-47ab-9493-000b1a8bf864",
   "metadata": {},
   "outputs": [
    {
     "name": "stdout",
     "output_type": "stream",
     "text": [
      "After cuisines change Nan to other, Nan values count is :\n"
     ]
    },
    {
     "data": {
      "text/plain": [
       "0"
      ]
     },
     "execution_count": 151,
     "metadata": {},
     "output_type": "execute_result"
    }
   ],
   "source": [
    "# after replace nan to other \n",
    "print(\"After cuisines change Nan to other, Nan values count is :\")\n",
    "zomatoData[\"cuisines\"].isnull().sum()"
   ]
  },
  {
   "cell_type": "markdown",
   "id": "e7e27769-0650-483e-9fcf-e8b7f1f93568",
   "metadata": {},
   "source": [
    "- 3.3].rest_type → Replace NaN with \"Unknown\"\n"
   ]
  },
  {
   "cell_type": "code",
   "execution_count": 156,
   "id": "ddab6d86-3978-41b1-ae24-87748620231e",
   "metadata": {},
   "outputs": [
    {
     "data": {
      "text/plain": [
       "227"
      ]
     },
     "execution_count": 156,
     "metadata": {},
     "output_type": "execute_result"
    }
   ],
   "source": [
    "zomatoData['rest_type'].isnull().sum()\n"
   ]
  },
  {
   "cell_type": "code",
   "execution_count": 158,
   "id": "73194920-f5c7-4984-a2cd-d7d17ab82f51",
   "metadata": {},
   "outputs": [
    {
     "name": "stderr",
     "output_type": "stream",
     "text": [
      "/var/folders/sq/yd4cryl525v1v539blv0k9q40000gn/T/ipykernel_42515/597019963.py:1: FutureWarning: A value is trying to be set on a copy of a DataFrame or Series through chained assignment using an inplace method.\n",
      "The behavior will change in pandas 3.0. This inplace method will never work because the intermediate object on which we are setting values always behaves as a copy.\n",
      "\n",
      "For example, when doing 'df[col].method(value, inplace=True)', try using 'df.method({col: value}, inplace=True)' or df[col] = df[col].method(value) instead, to perform the operation inplace on the original object.\n",
      "\n",
      "\n",
      "  zomatoData['rest_type'].fillna('Unknown', inplace=True)\n"
     ]
    }
   ],
   "source": [
    "zomatoData['rest_type'].fillna('Unknown', inplace=True)"
   ]
  },
  {
   "cell_type": "code",
   "execution_count": 160,
   "id": "d9b5dff9-ecf6-4f6e-9f22-05d5d3502303",
   "metadata": {},
   "outputs": [
    {
     "data": {
      "text/plain": [
       "0"
      ]
     },
     "execution_count": 160,
     "metadata": {},
     "output_type": "execute_result"
    }
   ],
   "source": [
    "zomatoData['rest_type'].isnull().sum()"
   ]
  },
  {
   "cell_type": "markdown",
   "id": "22eda6e0-814c-434f-9d8d-1a5a2947ed42",
   "metadata": {},
   "source": [
    "## Step 4: Votes Column"
   ]
  },
  {
   "cell_type": "markdown",
   "id": "68d3288b-2ce8-4bcd-8ad6-5d843fc9dc2b",
   "metadata": {},
   "source": [
    "- Fill missing values in votes with median\n"
   ]
  },
  {
   "cell_type": "code",
   "execution_count": 166,
   "id": "aff75ac1-9f5b-462b-b3cf-d4004114b5cf",
   "metadata": {},
   "outputs": [
    {
     "data": {
      "text/plain": [
       "0"
      ]
     },
     "execution_count": 166,
     "metadata": {},
     "output_type": "execute_result"
    }
   ],
   "source": [
    "zomatoData[\"votes\"].isnull().sum()"
   ]
  },
  {
   "cell_type": "markdown",
   "id": "a54353c8-c307-4f77-b40c-c7176a441abb",
   "metadata": {},
   "source": [
    "- Here votes column no missing values "
   ]
  },
  {
   "cell_type": "markdown",
   "id": "a390fad8-ed23-406c-a623-fd08a31ee005",
   "metadata": {},
   "source": [
    "## Step 5: Binary Encoding"
   ]
  },
  {
   "cell_type": "markdown",
   "id": "96881f08-9c71-45ea-998f-7230bb337ec3",
   "metadata": {},
   "source": [
    "- Convert the following binary fields:\n"
   ]
  },
  {
   "cell_type": "code",
   "execution_count": 176,
   "id": "19b3213a-96b1-4b5c-bfc9-17622d682629",
   "metadata": {},
   "outputs": [
    {
     "data": {
      "text/plain": [
       "0        Yes\n",
       "1        Yes\n",
       "2        Yes\n",
       "3         No\n",
       "4         No\n",
       "        ... \n",
       "51712     No\n",
       "51713     No\n",
       "51714     No\n",
       "51715     No\n",
       "51716     No\n",
       "Name: online_order, Length: 51717, dtype: object"
      ]
     },
     "execution_count": 176,
     "metadata": {},
     "output_type": "execute_result"
    }
   ],
   "source": [
    "zomatoData[\"online_order\"]\n"
   ]
  },
  {
   "cell_type": "code",
   "execution_count": 184,
   "id": "ae923712-8dff-4898-9d4b-78febd3d395a",
   "metadata": {},
   "outputs": [
    {
     "name": "stderr",
     "output_type": "stream",
     "text": [
      "/var/folders/sq/yd4cryl525v1v539blv0k9q40000gn/T/ipykernel_42515/2535172745.py:1: FutureWarning: Downcasting behavior in `replace` is deprecated and will be removed in a future version. To retain the old behavior, explicitly call `result.infer_objects(copy=False)`. To opt-in to the future behavior, set `pd.set_option('future.no_silent_downcasting', True)`\n",
      "  zomatoData[\"online_order\"] = zomatoData[\"online_order\"].replace({'Yes': 1, 'No': 0})\n"
     ]
    }
   ],
   "source": [
    "\n",
    "zomatoData[\"online_order\"] = zomatoData[\"online_order\"].replace({'Yes': 1, 'No': 0})\n",
    " \n"
   ]
  },
  {
   "cell_type": "code",
   "execution_count": 186,
   "id": "ede43454-5e5f-47db-bcc0-2ebd3d477d94",
   "metadata": {},
   "outputs": [
    {
     "data": {
      "text/plain": [
       "0        1\n",
       "1        1\n",
       "2        1\n",
       "3        0\n",
       "4        0\n",
       "        ..\n",
       "51712    0\n",
       "51713    0\n",
       "51714    0\n",
       "51715    0\n",
       "51716    0\n",
       "Name: online_order, Length: 51717, dtype: int64"
      ]
     },
     "execution_count": 186,
     "metadata": {},
     "output_type": "execute_result"
    }
   ],
   "source": [
    "zomatoData[\"online_order\"]"
   ]
  },
  {
   "cell_type": "code",
   "execution_count": 188,
   "id": "d7bfefba-9346-4750-b706-5fb77d81bdd1",
   "metadata": {},
   "outputs": [
    {
     "name": "stderr",
     "output_type": "stream",
     "text": [
      "/var/folders/sq/yd4cryl525v1v539blv0k9q40000gn/T/ipykernel_42515/1235351457.py:1: FutureWarning: Downcasting behavior in `replace` is deprecated and will be removed in a future version. To retain the old behavior, explicitly call `result.infer_objects(copy=False)`. To opt-in to the future behavior, set `pd.set_option('future.no_silent_downcasting', True)`\n",
      "  zomatoData[\"book_table\"] = zomatoData[\"book_table\"].replace({'Yes': 1, 'No': 0})\n"
     ]
    }
   ],
   "source": [
    "zomatoData[\"book_table\"] = zomatoData[\"book_table\"].replace({'Yes': 1, 'No': 0})\n"
   ]
  },
  {
   "cell_type": "code",
   "execution_count": 190,
   "id": "6304334f-1287-4ccc-9e12-2ec3a7e31ace",
   "metadata": {},
   "outputs": [
    {
     "data": {
      "text/plain": [
       "0        1\n",
       "1        0\n",
       "2        0\n",
       "3        0\n",
       "4        0\n",
       "        ..\n",
       "51712    0\n",
       "51713    0\n",
       "51714    0\n",
       "51715    1\n",
       "51716    0\n",
       "Name: book_table, Length: 51717, dtype: int64"
      ]
     },
     "execution_count": 190,
     "metadata": {},
     "output_type": "execute_result"
    }
   ],
   "source": [
    "zomatoData[\"book_table\"]"
   ]
  },
  {
   "cell_type": "code",
   "execution_count": 192,
   "id": "48b7a672-68c3-4b04-b98b-311e84cf8bb1",
   "metadata": {},
   "outputs": [
    {
     "data": {
      "text/html": [
       "<div>\n",
       "<style scoped>\n",
       "    .dataframe tbody tr th:only-of-type {\n",
       "        vertical-align: middle;\n",
       "    }\n",
       "\n",
       "    .dataframe tbody tr th {\n",
       "        vertical-align: top;\n",
       "    }\n",
       "\n",
       "    .dataframe thead th {\n",
       "        text-align: right;\n",
       "    }\n",
       "</style>\n",
       "<table border=\"1\" class=\"dataframe\">\n",
       "  <thead>\n",
       "    <tr style=\"text-align: right;\">\n",
       "      <th></th>\n",
       "      <th>online_order</th>\n",
       "      <th>book_table</th>\n",
       "      <th>rate</th>\n",
       "      <th>votes</th>\n",
       "      <th>rest_type</th>\n",
       "      <th>dish_liked</th>\n",
       "      <th>cuisines</th>\n",
       "      <th>approx_costfor_two_people</th>\n",
       "      <th>listed_intype</th>\n",
       "      <th>listed_incity</th>\n",
       "    </tr>\n",
       "  </thead>\n",
       "  <tbody>\n",
       "    <tr>\n",
       "      <th>0</th>\n",
       "      <td>1</td>\n",
       "      <td>1</td>\n",
       "      <td>4.1</td>\n",
       "      <td>775</td>\n",
       "      <td>Casual Dining</td>\n",
       "      <td>Pasta, Lunch Buffet, Masala Papad, Paneer Laja...</td>\n",
       "      <td>North Indian, Mughlai, Chinese</td>\n",
       "      <td>800.0</td>\n",
       "      <td>Buffet</td>\n",
       "      <td>Banashankari</td>\n",
       "    </tr>\n",
       "    <tr>\n",
       "      <th>1</th>\n",
       "      <td>1</td>\n",
       "      <td>0</td>\n",
       "      <td>4.1</td>\n",
       "      <td>787</td>\n",
       "      <td>Casual Dining</td>\n",
       "      <td>Momos, Lunch Buffet, Chocolate Nirvana, Thai G...</td>\n",
       "      <td>Chinese, North Indian, Thai</td>\n",
       "      <td>800.0</td>\n",
       "      <td>Buffet</td>\n",
       "      <td>Banashankari</td>\n",
       "    </tr>\n",
       "    <tr>\n",
       "      <th>2</th>\n",
       "      <td>1</td>\n",
       "      <td>0</td>\n",
       "      <td>3.8</td>\n",
       "      <td>918</td>\n",
       "      <td>Cafe, Casual Dining</td>\n",
       "      <td>Churros, Cannelloni, Minestrone Soup, Hot Choc...</td>\n",
       "      <td>Cafe, Mexican, Italian</td>\n",
       "      <td>800.0</td>\n",
       "      <td>Buffet</td>\n",
       "      <td>Banashankari</td>\n",
       "    </tr>\n",
       "    <tr>\n",
       "      <th>3</th>\n",
       "      <td>0</td>\n",
       "      <td>0</td>\n",
       "      <td>3.7</td>\n",
       "      <td>88</td>\n",
       "      <td>Quick Bites</td>\n",
       "      <td>Masala Dosa</td>\n",
       "      <td>South Indian, North Indian</td>\n",
       "      <td>300.0</td>\n",
       "      <td>Buffet</td>\n",
       "      <td>Banashankari</td>\n",
       "    </tr>\n",
       "    <tr>\n",
       "      <th>4</th>\n",
       "      <td>0</td>\n",
       "      <td>0</td>\n",
       "      <td>3.8</td>\n",
       "      <td>166</td>\n",
       "      <td>Casual Dining</td>\n",
       "      <td>Panipuri, Gol Gappe</td>\n",
       "      <td>North Indian, Rajasthani</td>\n",
       "      <td>600.0</td>\n",
       "      <td>Buffet</td>\n",
       "      <td>Banashankari</td>\n",
       "    </tr>\n",
       "    <tr>\n",
       "      <th>...</th>\n",
       "      <td>...</td>\n",
       "      <td>...</td>\n",
       "      <td>...</td>\n",
       "      <td>...</td>\n",
       "      <td>...</td>\n",
       "      <td>...</td>\n",
       "      <td>...</td>\n",
       "      <td>...</td>\n",
       "      <td>...</td>\n",
       "      <td>...</td>\n",
       "    </tr>\n",
       "    <tr>\n",
       "      <th>51712</th>\n",
       "      <td>0</td>\n",
       "      <td>0</td>\n",
       "      <td>3.6</td>\n",
       "      <td>27</td>\n",
       "      <td>Bar</td>\n",
       "      <td>Not Available</td>\n",
       "      <td>Continental</td>\n",
       "      <td>1500.0</td>\n",
       "      <td>Pubs and bars</td>\n",
       "      <td>Whitefield</td>\n",
       "    </tr>\n",
       "    <tr>\n",
       "      <th>51713</th>\n",
       "      <td>0</td>\n",
       "      <td>0</td>\n",
       "      <td>3.7</td>\n",
       "      <td>0</td>\n",
       "      <td>Bar</td>\n",
       "      <td>Not Available</td>\n",
       "      <td>Finger Food</td>\n",
       "      <td>600.0</td>\n",
       "      <td>Pubs and bars</td>\n",
       "      <td>Whitefield</td>\n",
       "    </tr>\n",
       "    <tr>\n",
       "      <th>51714</th>\n",
       "      <td>0</td>\n",
       "      <td>0</td>\n",
       "      <td>3.7</td>\n",
       "      <td>0</td>\n",
       "      <td>Bar</td>\n",
       "      <td>Not Available</td>\n",
       "      <td>Finger Food</td>\n",
       "      <td>2000.0</td>\n",
       "      <td>Pubs and bars</td>\n",
       "      <td>Whitefield</td>\n",
       "    </tr>\n",
       "    <tr>\n",
       "      <th>51715</th>\n",
       "      <td>0</td>\n",
       "      <td>1</td>\n",
       "      <td>4.3</td>\n",
       "      <td>236</td>\n",
       "      <td>Bar</td>\n",
       "      <td>Cocktails, Pizza, Buttermilk</td>\n",
       "      <td>Finger Food</td>\n",
       "      <td>2500.0</td>\n",
       "      <td>Pubs and bars</td>\n",
       "      <td>Whitefield</td>\n",
       "    </tr>\n",
       "    <tr>\n",
       "      <th>51716</th>\n",
       "      <td>0</td>\n",
       "      <td>0</td>\n",
       "      <td>3.4</td>\n",
       "      <td>13</td>\n",
       "      <td>Bar, Casual Dining</td>\n",
       "      <td>Not Available</td>\n",
       "      <td>Finger Food, North Indian, Continental</td>\n",
       "      <td>1500.0</td>\n",
       "      <td>Pubs and bars</td>\n",
       "      <td>Whitefield</td>\n",
       "    </tr>\n",
       "  </tbody>\n",
       "</table>\n",
       "<p>51717 rows × 10 columns</p>\n",
       "</div>"
      ],
      "text/plain": [
       "       online_order  book_table  rate  votes            rest_type  \\\n",
       "0                 1           1   4.1    775        Casual Dining   \n",
       "1                 1           0   4.1    787        Casual Dining   \n",
       "2                 1           0   3.8    918  Cafe, Casual Dining   \n",
       "3                 0           0   3.7     88          Quick Bites   \n",
       "4                 0           0   3.8    166        Casual Dining   \n",
       "...             ...         ...   ...    ...                  ...   \n",
       "51712             0           0   3.6     27                  Bar   \n",
       "51713             0           0   3.7      0                  Bar   \n",
       "51714             0           0   3.7      0                  Bar   \n",
       "51715             0           1   4.3    236                  Bar   \n",
       "51716             0           0   3.4     13   Bar, Casual Dining   \n",
       "\n",
       "                                              dish_liked  \\\n",
       "0      Pasta, Lunch Buffet, Masala Papad, Paneer Laja...   \n",
       "1      Momos, Lunch Buffet, Chocolate Nirvana, Thai G...   \n",
       "2      Churros, Cannelloni, Minestrone Soup, Hot Choc...   \n",
       "3                                            Masala Dosa   \n",
       "4                                    Panipuri, Gol Gappe   \n",
       "...                                                  ...   \n",
       "51712                                      Not Available   \n",
       "51713                                      Not Available   \n",
       "51714                                      Not Available   \n",
       "51715                       Cocktails, Pizza, Buttermilk   \n",
       "51716                                      Not Available   \n",
       "\n",
       "                                     cuisines  approx_costfor_two_people  \\\n",
       "0              North Indian, Mughlai, Chinese                      800.0   \n",
       "1                 Chinese, North Indian, Thai                      800.0   \n",
       "2                      Cafe, Mexican, Italian                      800.0   \n",
       "3                  South Indian, North Indian                      300.0   \n",
       "4                    North Indian, Rajasthani                      600.0   \n",
       "...                                       ...                        ...   \n",
       "51712                             Continental                     1500.0   \n",
       "51713                             Finger Food                      600.0   \n",
       "51714                             Finger Food                     2000.0   \n",
       "51715                             Finger Food                     2500.0   \n",
       "51716  Finger Food, North Indian, Continental                     1500.0   \n",
       "\n",
       "       listed_intype listed_incity  \n",
       "0             Buffet  Banashankari  \n",
       "1             Buffet  Banashankari  \n",
       "2             Buffet  Banashankari  \n",
       "3             Buffet  Banashankari  \n",
       "4             Buffet  Banashankari  \n",
       "...              ...           ...  \n",
       "51712  Pubs and bars    Whitefield  \n",
       "51713  Pubs and bars    Whitefield  \n",
       "51714  Pubs and bars    Whitefield  \n",
       "51715  Pubs and bars    Whitefield  \n",
       "51716  Pubs and bars    Whitefield  \n",
       "\n",
       "[51717 rows x 10 columns]"
      ]
     },
     "execution_count": 192,
     "metadata": {},
     "output_type": "execute_result"
    }
   ],
   "source": [
    "zomatoData"
   ]
  },
  {
   "cell_type": "markdown",
   "id": "7f815e33-2eb0-4bc0-bf3a-6dfd7d24877f",
   "metadata": {},
   "source": [
    "## Step 6: Data Type Conversion\n"
   ]
  },
  {
   "cell_type": "markdown",
   "id": "8fb1d1ed-724a-448b-9f65-9b37062eeb30",
   "metadata": {},
   "source": [
    "- 6.1].rate → float"
   ]
  },
  {
   "cell_type": "code",
   "execution_count": 196,
   "id": "30795e50-ec0e-4e14-9534-1d180013e066",
   "metadata": {},
   "outputs": [
    {
     "name": "stdout",
     "output_type": "stream",
     "text": [
      "<class 'pandas.core.series.Series'>\n",
      "RangeIndex: 51717 entries, 0 to 51716\n",
      "Series name: rate\n",
      "Non-Null Count  Dtype  \n",
      "--------------  -----  \n",
      "51717 non-null  float64\n",
      "dtypes: float64(1)\n",
      "memory usage: 404.2 KB\n"
     ]
    }
   ],
   "source": [
    "zomatoData['rate'].info()"
   ]
  },
  {
   "cell_type": "code",
   "execution_count": 202,
   "id": "7f91f781-19a9-49a6-beb2-f9f03fd1d4c6",
   "metadata": {},
   "outputs": [],
   "source": [
    "zomatoData['rate'] = zomatoData['rate'].astype(float)"
   ]
  },
  {
   "cell_type": "code",
   "execution_count": 204,
   "id": "dafc71f6-0dcc-4983-a11a-046a8938e284",
   "metadata": {},
   "outputs": [
    {
     "name": "stdout",
     "output_type": "stream",
     "text": [
      "<class 'pandas.core.series.Series'>\n",
      "RangeIndex: 51717 entries, 0 to 51716\n",
      "Series name: rate\n",
      "Non-Null Count  Dtype  \n",
      "--------------  -----  \n",
      "51717 non-null  float64\n",
      "dtypes: float64(1)\n",
      "memory usage: 404.2 KB\n"
     ]
    }
   ],
   "source": [
    "zomatoData['rate'].info()"
   ]
  },
  {
   "cell_type": "markdown",
   "id": "a5b39bec-4213-454c-a8c6-cd11c7030487",
   "metadata": {},
   "source": [
    "- 6.2].votes → integer"
   ]
  },
  {
   "cell_type": "code",
   "execution_count": 207,
   "id": "318297aa-29ec-4f79-8593-1755ce7d2591",
   "metadata": {},
   "outputs": [],
   "source": [
    "zomatoData['votes'] = zomatoData['votes'].astype(int)"
   ]
  },
  {
   "cell_type": "markdown",
   "id": "918969e3-23c1-412d-b7dc-e6aff3fc9bb6",
   "metadata": {},
   "source": [
    "- 6.3].approx_costfor_two_people → integer"
   ]
  },
  {
   "cell_type": "code",
   "execution_count": 214,
   "id": "76edcacf-a970-4371-ab66-0d913d200220",
   "metadata": {},
   "outputs": [
    {
     "data": {
      "text/plain": [
       "dtype('float64')"
      ]
     },
     "execution_count": 214,
     "metadata": {},
     "output_type": "execute_result"
    }
   ],
   "source": [
    "zomatoData['approx_costfor_two_people'].dtype"
   ]
  },
  {
   "cell_type": "code",
   "execution_count": 218,
   "id": "04a42a8e-093a-4c62-95bf-4e1e8ba36786",
   "metadata": {},
   "outputs": [],
   "source": [
    "zomatoData['approx_costfor_two_people']= zomatoData['approx_costfor_two_people'].astype(int)"
   ]
  },
  {
   "cell_type": "code",
   "execution_count": 226,
   "id": "a4c50e82-c10c-43cc-b617-165559a2ad2a",
   "metadata": {},
   "outputs": [
    {
     "name": "stdout",
     "output_type": "stream",
     "text": [
      "After changeing datatype \n"
     ]
    },
    {
     "data": {
      "text/plain": [
       "dtype('int64')"
      ]
     },
     "execution_count": 226,
     "metadata": {},
     "output_type": "execute_result"
    }
   ],
   "source": [
    "print(\"After changeing datatype \")\n",
    "zomatoData['approx_costfor_two_people'].dtype"
   ]
  },
  {
   "cell_type": "markdown",
   "id": "fcf96340-93cb-40c6-b5f3-e4951251c11f",
   "metadata": {},
   "source": [
    "## 1. What is the shape of the given dataset?\n"
   ]
  },
  {
   "cell_type": "code",
   "execution_count": 231,
   "id": "bcd97be3-0bcd-497c-91b5-5a6a31cafa4d",
   "metadata": {},
   "outputs": [
    {
     "data": {
      "text/plain": [
       "(51717, 10)"
      ]
     },
     "execution_count": 231,
     "metadata": {},
     "output_type": "execute_result"
    }
   ],
   "source": [
    "zomatoData.shape"
   ]
  },
  {
   "cell_type": "code",
   "execution_count": 253,
   "id": "e444a16a-fcad-4e8b-85e6-d12b5396191f",
   "metadata": {},
   "outputs": [
    {
     "data": {
      "image/png": "[encoded data removed]",
      "text/plain": [
       "<Figure size 500x500 with 1 Axes>"
      ]
     },
     "metadata": {},
     "output_type": "display_data"
    }
   ],
   "source": [
    "rows, cols = zomatoData.shape\n",
    " \n",
    "labels = [f'Rows (Entries): {rows}', f'Columns (Features): {cols}']\n",
    "sizes = [rows, cols]\n",
    " \n",
    "plt.figure(figsize=(5, 5))\n",
    "plt.pie(\n",
    "    sizes,\n",
    "    labels=labels,\n",
    "    startangle=90,\n",
    "    colors=['skyblue', 'lightcoral'],\n",
    "    wedgeprops=dict(width=0.4),\n",
    "    textprops={'fontsize': 12}\n",
    ")\n",
    "plt.title(\"Dataset Shape Overview\", fontsize=14)\n",
    "plt.tight_layout()\n",
    "plt.show()"
   ]
  },
  {
   "cell_type": "markdown",
   "id": "9c95fed0-6ae2-43e2-8a42-197ffb91df68",
   "metadata": {},
   "source": [
    "## 2. How many restaurants serve North Indian cuisine?\n"
   ]
  },
  {
   "cell_type": "code",
   "execution_count": 237,
   "id": "0890a2c2-8a1c-469c-b1e2-d9851948fb2d",
   "metadata": {},
   "outputs": [
    {
     "name": "stdout",
     "output_type": "stream",
     "text": [
      "Restaurants serving North Indian cuisine: 21085\n"
     ]
    }
   ],
   "source": [
    "north_count = zomatoData[zomatoData['cuisines'].str.contains('North Indian', na=False)].shape[0]\n",
    "print(\"Restaurants serving North Indian cuisine:\", north_count)"
   ]
  },
  {
   "cell_type": "code",
   "execution_count": 259,
   "id": "0fefb8cf-8f66-443e-bd52-019dc73c8ea4",
   "metadata": {},
   "outputs": [
    {
     "name": "stderr",
     "output_type": "stream",
     "text": [
      "/var/folders/sq/yd4cryl525v1v539blv0k9q40000gn/T/ipykernel_42515/2075374740.py:4: FutureWarning: \n",
      "\n",
      "Passing `palette` without assigning `hue` is deprecated and will be removed in v0.14.0. Assign the `y` variable to `hue` and set `legend=False` for the same effect.\n",
      "\n",
      "  sns.barplot(x=top_cuisines.values, y=top_cuisines.index, palette='viridis')\n"
     ]
    },
    {
     "data": {
      "image/png": "[encoded data removed]",
      "text/plain": [
       "<Figure size 1000x500 with 1 Axes>"
      ]
     },
     "metadata": {},
     "output_type": "display_data"
    }
   ],
   "source": [
    "top_cuisines = zomatoData['cuisines'].value_counts().nlargest(10)\n",
    "\n",
    "plt.figure(figsize=(10, 5))\n",
    "sns.barplot(x=top_cuisines.values, y=top_cuisines.index, palette='viridis')\n",
    "plt.title('Top 10 Cuisines by Restaurant Count')\n",
    "plt.xlabel('Number of Restaurants')\n",
    "plt.ylabel('Cuisine')\n",
    "plt.tight_layout()\n",
    "plt.show()"
   ]
  },
  {
   "cell_type": "markdown",
   "id": "795424af-27a4-4461-99cb-bc7a4aed94ce",
   "metadata": {},
   "source": [
    "## 3. What cuisine is most commonly offered by restaurants in Bangalore?\n"
   ]
  },
  {
   "cell_type": "code",
   "execution_count": 263,
   "id": "f154f6c3-ca64-4f99-bdf0-cb628b7ab912",
   "metadata": {},
   "outputs": [
    {
     "name": "stdout",
     "output_type": "stream",
     "text": [
      "3. Most common cuisine: North Indian\n"
     ]
    }
   ],
   "source": [
    "from collections import Counter\n",
    "\n",
    "all_cuisines = zomatoData['cuisines'].str.split(', ')\n",
    "cuisine_flat = [c for sublist in all_cuisines for c in sublist]\n",
    "cuisine_common = Counter(cuisine_flat).most_common(1)\n",
    "print(\"3. Most common cuisine:\", cuisine_common[0][0])"
   ]
  },
  {
   "cell_type": "code",
   "execution_count": 340,
   "id": "a0862025-1fc2-4873-9852-0ad5e61bb3df",
   "metadata": {},
   "outputs": [
    {
     "data": {
      "image/png": "[encoded data removed]",
      "text/plain": [
       "<Figure size 1000x600 with 1 Axes>"
      ]
     },
     "metadata": {},
     "output_type": "display_data"
    }
   ],
   "source": [
    "cuisines, counts = zip(*cuisine_common)\n",
    "\n",
    "# Create bar chart\n",
    "plt.figure(figsize=(10, 6))\n",
    "plt.barh(cuisines, counts, color='skyblue')\n",
    "plt.xlabel('Count')\n",
    "plt.ylabel('Cuisine')\n",
    "plt.title('Top 10 Most Common Cuisines')\n",
    "plt.gca().invert_yaxis()  # Invert y-axis to have the most common on top\n",
    "plt.show()"
   ]
  },
  {
   "cell_type": "markdown",
   "id": "aca2f7c0-1408-4717-b27f-97a112fc0db7",
   "metadata": {},
   "source": [
    "## 4. Which locality in Bangalore has the highest average cost for dining (for two people)?"
   ]
  },
  {
   "cell_type": "code",
   "execution_count": 270,
   "id": "9f543c0f-7062-498f-bc7c-08bfa22213ea",
   "metadata": {},
   "outputs": [
    {
     "name": "stdout",
     "output_type": "stream",
     "text": [
      "4. Locality with highest avg. cost: Church Street\n"
     ]
    }
   ],
   "source": [
    "avg_cost_by_loc = zomatoData.groupby('listed_incity')['approx_costfor_two_people'].mean()\n",
    "print(\"4. Locality with highest avg. cost:\", avg_cost_by_loc.idxmax())"
   ]
  },
  {
   "cell_type": "markdown",
   "id": "cf73be16-b163-4b72-a64d-9d06426a2c84",
   "metadata": {},
   "source": [
    "## "
   ]
  },
  {
   "cell_type": "code",
   "execution_count": 273,
   "id": "af05ad80-bbd4-4ee2-9bde-f8516ce91069",
   "metadata": {},
   "outputs": [
    {
     "name": "stdout",
     "output_type": "stream",
     "text": [
      "5. Top-rated rest_type (>1000 votes): Bakery\n"
     ]
    }
   ],
   "source": [
    "high_votes = zomatoData[zomatoData['votes'] > 1000]\n",
    "top_rest_type = high_votes.groupby('rest_type')['rate'].mean().idxmax()\n",
    "print(\"5. Top-rated rest_type (>1000 votes):\", top_rest_type)"
   ]
  },
  {
   "cell_type": "markdown",
   "id": "0b28ef5b-66f5-4179-89ac-c473454bbc18",
   "metadata": {},
   "source": [
    "## 6. How much does it cost at minimum to eat out in Bangalore?\n"
   ]
  },
  {
   "cell_type": "code",
   "execution_count": 276,
   "id": "856b9fa6-2670-465e-9047-200697dffe8d",
   "metadata": {},
   "outputs": [
    {
     "name": "stdout",
     "output_type": "stream",
     "text": [
      "6. Minimum cost to eat out: 40\n"
     ]
    }
   ],
   "source": [
    "min_cost = zomatoData['approx_costfor_two_people'].min()\n",
    "print(\"6. Minimum cost to eat out:\", min_cost)"
   ]
  },
  {
   "cell_type": "markdown",
   "id": "2e84dd25-f2d0-4935-9073-ec07d72567c0",
   "metadata": {},
   "source": [
    "## 7. What percentage of total online orders is received by restaurants in Banashankari?\n"
   ]
  },
  {
   "cell_type": "markdown",
   "id": "753915d3-22d8-487c-a97c-08cf9ac0e9ff",
   "metadata": {},
   "source": [
    "## 8. Which locality has the most restaurants with over 500 votes and a rating below 3.0?"
   ]
  },
  {
   "cell_type": "code",
   "execution_count": 292,
   "id": "45cafd1b-bfaf-4ae3-a92c-0227f8cf17b2",
   "metadata": {},
   "outputs": [
    {
     "data": {
      "text/plain": [
       "'Brookefield'"
      ]
     },
     "execution_count": 292,
     "metadata": {},
     "output_type": "execute_result"
    }
   ],
   "source": [
    "cond = zomatoData[(zomatoData['votes'] > 500) & (zomatoData['rate'] < 3.0)]\n",
    "most_common_loc = cond['listed_incity'].value_counts().idxmax()\n",
    "most_common_loc"
   ]
  },
  {
   "cell_type": "markdown",
   "id": "470a3bf5-f6cd-48d3-bfd0-b2d8cc3d9246",
   "metadata": {},
   "source": [
    "## 9. Which locality in Bangalore should Zomato target for expansion based on restaurant type diversity?\n"
   ]
  },
  {
   "cell_type": "code",
   "execution_count": 297,
   "id": "68750a80-1973-4da3-92e4-0e83d9503553",
   "metadata": {},
   "outputs": [
    {
     "name": "stdout",
     "output_type": "stream",
     "text": [
      "9. Locality with most diverse rest_type: BTM\n"
     ]
    }
   ],
   "source": [
    "diversity = zomatoData.groupby('listed_incity')['rest_type'].nunique()\n",
    "most_diverse = diversity.idxmax()\n",
    "print(\"9. Locality with most diverse rest_type:\", most_diverse)"
   ]
  },
  {
   "cell_type": "markdown",
   "id": "36f6bb8a-1c83-4f38-a35a-9b6ee3f1a8b3",
   "metadata": {},
   "source": [
    "## 10. What's the average cost difference between buffet and delivery restaurants?\n"
   ]
  },
  {
   "cell_type": "code",
   "execution_count": 300,
   "id": "01f0e639-2347-4e7c-b5f7-653a51526eff",
   "metadata": {},
   "outputs": [
    {
     "name": "stdout",
     "output_type": "stream",
     "text": [
      "10. Avg cost difference (Buffet vs Delivery): 831.2513659898209\n"
     ]
    }
   ],
   "source": [
    "buffet = zomatoData[zomatoData['listed_intype'] == 'Buffet']['approx_costfor_two_people'].mean()\n",
    "delivery = zomatoData[zomatoData['listed_intype'] == 'Delivery']['approx_costfor_two_people'].mean()\n",
    "cost_diff = abs(buffet - delivery)\n",
    "print(\"10. Avg cost difference (Buffet vs Delivery):\", cost_diff)\n"
   ]
  },
  {
   "cell_type": "markdown",
   "id": "11a1fd38-e6ad-42c2-9b30-91f5650f355a",
   "metadata": {},
   "source": [
    "## 11 . What is the maximum number of votes received by any restaurant with online ordering?\n"
   ]
  },
  {
   "cell_type": "code",
   "execution_count": 303,
   "id": "129d2ec9-1d7a-40fc-8d7f-038307685ab6",
   "metadata": {},
   "outputs": [
    {
     "name": "stdout",
     "output_type": "stream",
     "text": [
      "11. Max votes (online orders): nan\n"
     ]
    }
   ],
   "source": [
    "max_votes_online = zomatoData[zomatoData['online_order'] == 'Yes']['votes'].max()\n",
    "print(\"11. Max votes (online orders):\", max_votes_online)\n"
   ]
  },
  {
   "cell_type": "code",
   "execution_count": 311,
   "id": "3e182e9a-72ea-4c86-9969-4e1447bee9e5",
   "metadata": {},
   "outputs": [
    {
     "data": {
      "text/plain": [
       "16832"
      ]
     },
     "execution_count": 311,
     "metadata": {},
     "output_type": "execute_result"
    }
   ],
   "source": [
    "max_votes = zomatoData['votes'].max()\n",
    "max_votes"
   ]
  },
  {
   "cell_type": "markdown",
   "id": "1302a720-f0d8-406b-ae1f-5e8622f36a77",
   "metadata": {},
   "source": [
    "## 12. What is the average rating of restaurants that serve both North Indian and Chinese cuisines?\n"
   ]
  },
  {
   "cell_type": "code",
   "execution_count": 314,
   "id": "3546c9d4-8e60-4a87-b175-b32a16ddbfa9",
   "metadata": {},
   "outputs": [
    {
     "name": "stdout",
     "output_type": "stream",
     "text": [
      "12. Avg rating (North Indian & Chinese): 3.59\n"
     ]
    }
   ],
   "source": [
    "both_cuisine = zomatoData[zomatoData['cuisines'].str.contains('North Indian') & zomatoData['cuisines'].str.contains('Chinese')]\n",
    "avg_rating_both = both_cuisine['rate'].mean()\n",
    "print(\"12. Avg rating (North Indian & Chinese):\", round(avg_rating_both, 2))"
   ]
  },
  {
   "cell_type": "markdown",
   "id": "64922d45-8318-46bb-b16e-0acea48b734d",
   "metadata": {},
   "source": [
    "## 13. What is the most profitable area for Zomato based on potential revenue estimation?\n"
   ]
  },
  {
   "cell_type": "code",
   "execution_count": 317,
   "id": "abbd5e6e-4b5c-4ba3-97c3-48bdff32808b",
   "metadata": {},
   "outputs": [
    {
     "name": "stdout",
     "output_type": "stream",
     "text": [
      "13. Most profitable locality: Koramangala 7th Block\n"
     ]
    }
   ],
   "source": [
    "revenue = zomatoData.dropna(subset=['approx_costfor_two_people', 'votes'])\n",
    "revenue['est_revenue'] = revenue['approx_costfor_two_people'] * revenue['votes']\n",
    "most_revenue_loc = revenue.groupby('listed_incity')['est_revenue'].sum().idxmax()\n",
    "print(\"13. Most profitable locality:\", most_revenue_loc)\n"
   ]
  },
  {
   "cell_type": "markdown",
   "id": "cd885dd6-3c21-4df9-9563-6d7a4c31acd1",
   "metadata": {},
   "source": [
    "## 14. If Zomato wants to reduce customer complaints, which restaurant type should they focus on?\n"
   ]
  },
  {
   "cell_type": "code",
   "execution_count": 321,
   "id": "0993ad88-4fff-409f-b6e6-b3965d3a757f",
   "metadata": {},
   "outputs": [
    {
     "name": "stdout",
     "output_type": "stream",
     "text": [
      "14. Focus on reducing complaints in: Dessert Parlor, Kiosk\n"
     ]
    }
   ],
   "source": [
    "avg_rating_by_type = zomatoData.groupby('rest_type')['rate'].mean()\n",
    "lowest_type = avg_rating_by_type.idxmin()\n",
    "print(\"14. Focus on reducing complaints in:\", lowest_type)\n"
   ]
  },
  {
   "cell_type": "markdown",
   "id": "e904c437-ae56-435c-a391-83435817bf44",
   "metadata": {},
   "source": [
    "## 15. In which area should Zomato invest by considering high rating (rate > 4.2), high number of votes (> 500) and including online orders?\n"
   ]
  },
  {
   "cell_type": "code",
   "execution_count": 330,
   "id": "6e2b2a59-2ace-464c-a5fe-64bf166b3aa8",
   "metadata": {},
   "outputs": [],
   "source": [
    "zomatoData = pd.read_csv(\"/Users/rajeevb/Downloads/zomato_data.csv\") "
   ]
  },
  {
   "cell_type": "code",
   "execution_count": 332,
   "id": "dfbee919-c965-4fce-a116-4250352ea52e",
   "metadata": {},
   "outputs": [
    {
     "ename": "TypeError",
     "evalue": "'>' not supported between instances of 'str' and 'float'",
     "output_type": "error",
     "traceback": [
      "\u001b[0;31m---------------------------------------------------------------------------\u001b[0m",
      "\u001b[0;31mTypeError\u001b[0m                                 Traceback (most recent call last)",
      "Cell \u001b[0;32mIn[332], line 1\u001b[0m\n\u001b[0;32m----> 1\u001b[0m best_area_cond \u001b[38;5;241m=\u001b[39m zomatoData[(zomatoData[\u001b[38;5;124m'\u001b[39m\u001b[38;5;124mrate\u001b[39m\u001b[38;5;124m'\u001b[39m] \u001b[38;5;241m>\u001b[39m \u001b[38;5;241m4.2\u001b[39m) \u001b[38;5;241m&\u001b[39m (zomatoData[\u001b[38;5;124m'\u001b[39m\u001b[38;5;124mvotes\u001b[39m\u001b[38;5;124m'\u001b[39m] \u001b[38;5;241m>\u001b[39m \u001b[38;5;241m500\u001b[39m) \u001b[38;5;241m&\u001b[39m (zomatoData[\u001b[38;5;124m'\u001b[39m\u001b[38;5;124monline_order\u001b[39m\u001b[38;5;124m'\u001b[39m] \u001b[38;5;241m==\u001b[39m \u001b[38;5;124m'\u001b[39m\u001b[38;5;124mYes\u001b[39m\u001b[38;5;124m'\u001b[39m)]\n\u001b[1;32m      2\u001b[0m best_area \u001b[38;5;241m=\u001b[39m best_area_cond[\u001b[38;5;124m'\u001b[39m\u001b[38;5;124mlisted_incity\u001b[39m\u001b[38;5;124m'\u001b[39m]\u001b[38;5;241m.\u001b[39mvalue_counts()\u001b[38;5;241m.\u001b[39midxmax()\n\u001b[1;32m      3\u001b[0m \u001b[38;5;28mprint\u001b[39m(\u001b[38;5;124m\"\u001b[39m\u001b[38;5;124mBest area to invest in:\u001b[39m\u001b[38;5;124m\"\u001b[39m, best_area)\n",
      "File \u001b[0;32m/opt/anaconda3/lib/python3.12/site-packages/pandas/core/ops/common.py:76\u001b[0m, in \u001b[0;36m_unpack_zerodim_and_defer.<locals>.new_method\u001b[0;34m(self, other)\u001b[0m\n\u001b[1;32m     72\u001b[0m             \u001b[38;5;28;01mreturn\u001b[39;00m \u001b[38;5;28mNotImplemented\u001b[39m\n\u001b[1;32m     74\u001b[0m other \u001b[38;5;241m=\u001b[39m item_from_zerodim(other)\n\u001b[0;32m---> 76\u001b[0m \u001b[38;5;28;01mreturn\u001b[39;00m method(\u001b[38;5;28mself\u001b[39m, other)\n",
      "File \u001b[0;32m/opt/anaconda3/lib/python3.12/site-packages/pandas/core/arraylike.py:56\u001b[0m, in \u001b[0;36mOpsMixin.__gt__\u001b[0;34m(self, other)\u001b[0m\n\u001b[1;32m     54\u001b[0m \u001b[38;5;129m@unpack_zerodim_and_defer\u001b[39m(\u001b[38;5;124m\"\u001b[39m\u001b[38;5;124m__gt__\u001b[39m\u001b[38;5;124m\"\u001b[39m)\n\u001b[1;32m     55\u001b[0m \u001b[38;5;28;01mdef\u001b[39;00m \u001b[38;5;21m__gt__\u001b[39m(\u001b[38;5;28mself\u001b[39m, other):\n\u001b[0;32m---> 56\u001b[0m     \u001b[38;5;28;01mreturn\u001b[39;00m \u001b[38;5;28mself\u001b[39m\u001b[38;5;241m.\u001b[39m_cmp_method(other, operator\u001b[38;5;241m.\u001b[39mgt)\n",
      "File \u001b[0;32m/opt/anaconda3/lib/python3.12/site-packages/pandas/core/series.py:6119\u001b[0m, in \u001b[0;36mSeries._cmp_method\u001b[0;34m(self, other, op)\u001b[0m\n\u001b[1;32m   6116\u001b[0m lvalues \u001b[38;5;241m=\u001b[39m \u001b[38;5;28mself\u001b[39m\u001b[38;5;241m.\u001b[39m_values\n\u001b[1;32m   6117\u001b[0m rvalues \u001b[38;5;241m=\u001b[39m extract_array(other, extract_numpy\u001b[38;5;241m=\u001b[39m\u001b[38;5;28;01mTrue\u001b[39;00m, extract_range\u001b[38;5;241m=\u001b[39m\u001b[38;5;28;01mTrue\u001b[39;00m)\n\u001b[0;32m-> 6119\u001b[0m res_values \u001b[38;5;241m=\u001b[39m ops\u001b[38;5;241m.\u001b[39mcomparison_op(lvalues, rvalues, op)\n\u001b[1;32m   6121\u001b[0m \u001b[38;5;28;01mreturn\u001b[39;00m \u001b[38;5;28mself\u001b[39m\u001b[38;5;241m.\u001b[39m_construct_result(res_values, name\u001b[38;5;241m=\u001b[39mres_name)\n",
      "File \u001b[0;32m/opt/anaconda3/lib/python3.12/site-packages/pandas/core/ops/array_ops.py:344\u001b[0m, in \u001b[0;36mcomparison_op\u001b[0;34m(left, right, op)\u001b[0m\n\u001b[1;32m    341\u001b[0m     \u001b[38;5;28;01mreturn\u001b[39;00m invalid_comparison(lvalues, rvalues, op)\n\u001b[1;32m    343\u001b[0m \u001b[38;5;28;01melif\u001b[39;00m lvalues\u001b[38;5;241m.\u001b[39mdtype \u001b[38;5;241m==\u001b[39m \u001b[38;5;28mobject\u001b[39m \u001b[38;5;129;01mor\u001b[39;00m \u001b[38;5;28misinstance\u001b[39m(rvalues, \u001b[38;5;28mstr\u001b[39m):\n\u001b[0;32m--> 344\u001b[0m     res_values \u001b[38;5;241m=\u001b[39m comp_method_OBJECT_ARRAY(op, lvalues, rvalues)\n\u001b[1;32m    346\u001b[0m \u001b[38;5;28;01melse\u001b[39;00m:\n\u001b[1;32m    347\u001b[0m     res_values \u001b[38;5;241m=\u001b[39m _na_arithmetic_op(lvalues, rvalues, op, is_cmp\u001b[38;5;241m=\u001b[39m\u001b[38;5;28;01mTrue\u001b[39;00m)\n",
      "File \u001b[0;32m/opt/anaconda3/lib/python3.12/site-packages/pandas/core/ops/array_ops.py:129\u001b[0m, in \u001b[0;36mcomp_method_OBJECT_ARRAY\u001b[0;34m(op, x, y)\u001b[0m\n\u001b[1;32m    127\u001b[0m     result \u001b[38;5;241m=\u001b[39m libops\u001b[38;5;241m.\u001b[39mvec_compare(x\u001b[38;5;241m.\u001b[39mravel(), y\u001b[38;5;241m.\u001b[39mravel(), op)\n\u001b[1;32m    128\u001b[0m \u001b[38;5;28;01melse\u001b[39;00m:\n\u001b[0;32m--> 129\u001b[0m     result \u001b[38;5;241m=\u001b[39m libops\u001b[38;5;241m.\u001b[39mscalar_compare(x\u001b[38;5;241m.\u001b[39mravel(), y, op)\n\u001b[1;32m    130\u001b[0m \u001b[38;5;28;01mreturn\u001b[39;00m result\u001b[38;5;241m.\u001b[39mreshape(x\u001b[38;5;241m.\u001b[39mshape)\n",
      "File \u001b[0;32mops.pyx:107\u001b[0m, in \u001b[0;36mpandas._libs.ops.scalar_compare\u001b[0;34m()\u001b[0m\n",
      "\u001b[0;31mTypeError\u001b[0m: '>' not supported between instances of 'str' and 'float'"
     ]
    }
   ],
   "source": [
    "best_area_cond = zomatoData[(zomatoData['rate'] > 4.2) & (zomatoData['votes'] > 500) & (zomatoData['online_order'] == 'Yes')]\n",
    "best_area = best_area_cond['listed_incity'].value_counts().idxmax()\n",
    "print(\"Best area to invest in:\", best_area)\n"
   ]
  },
  {
   "cell_type": "code",
   "execution_count": 346,
   "id": "7e37e136-787e-4a2e-8df9-6edc150d8836",
   "metadata": {},
   "outputs": [
    {
     "name": "stdout",
     "output_type": "stream",
     "text": [
      "14. Focus on reducing complaints in: Dessert Parlor, Kiosk\n"
     ]
    }
   ],
   "source": []
  },
  {
   "cell_type": "markdown",
   "id": "2ff975a2-6567-428d-8748-dbc7f86eb5ff",
   "metadata": {},
   "source": [
    "## For merged "
   ]
  },
  {
   "cell_type": "code",
   "execution_count": 349,
   "id": "251ce08b-ee74-44df-9861-a310a98ffb74",
   "metadata": {},
   "outputs": [
    {
     "data": {
      "text/html": [
       "<div>\n",
       "<style scoped>\n",
       "    .dataframe tbody tr th:only-of-type {\n",
       "        vertical-align: middle;\n",
       "    }\n",
       "\n",
       "    .dataframe tbody tr th {\n",
       "        vertical-align: top;\n",
       "    }\n",
       "\n",
       "    .dataframe thead th {\n",
       "        text-align: right;\n",
       "    }\n",
       "</style>\n",
       "<table border=\"1\" class=\"dataframe\">\n",
       "  <thead>\n",
       "    <tr style=\"text-align: right;\">\n",
       "      <th></th>\n",
       "      <th>listed_incity</th>\n",
       "      <th>Latitude</th>\n",
       "      <th>Longitude</th>\n",
       "    </tr>\n",
       "  </thead>\n",
       "  <tbody>\n",
       "    <tr>\n",
       "      <th>0</th>\n",
       "      <td>Banashankari</td>\n",
       "      <td>12.939333</td>\n",
       "      <td>77.553982</td>\n",
       "    </tr>\n",
       "    <tr>\n",
       "      <th>1</th>\n",
       "      <td>Bannerghatta Road</td>\n",
       "      <td>12.952660</td>\n",
       "      <td>77.605048</td>\n",
       "    </tr>\n",
       "    <tr>\n",
       "      <th>2</th>\n",
       "      <td>Basavanagudi</td>\n",
       "      <td>12.941726</td>\n",
       "      <td>77.575502</td>\n",
       "    </tr>\n",
       "    <tr>\n",
       "      <th>3</th>\n",
       "      <td>Bellandur</td>\n",
       "      <td>12.925352</td>\n",
       "      <td>77.675941</td>\n",
       "    </tr>\n",
       "    <tr>\n",
       "      <th>4</th>\n",
       "      <td>Brigade Road</td>\n",
       "      <td>12.967358</td>\n",
       "      <td>77.606435</td>\n",
       "    </tr>\n",
       "    <tr>\n",
       "      <th>5</th>\n",
       "      <td>Brookefield</td>\n",
       "      <td>12.963814</td>\n",
       "      <td>77.722437</td>\n",
       "    </tr>\n",
       "    <tr>\n",
       "      <th>6</th>\n",
       "      <td>BTM</td>\n",
       "      <td>12.916360</td>\n",
       "      <td>77.604733</td>\n",
       "    </tr>\n",
       "    <tr>\n",
       "      <th>7</th>\n",
       "      <td>Church Street</td>\n",
       "      <td>12.974914</td>\n",
       "      <td>77.605247</td>\n",
       "    </tr>\n",
       "    <tr>\n",
       "      <th>8</th>\n",
       "      <td>Electronic City</td>\n",
       "      <td>12.848760</td>\n",
       "      <td>77.648253</td>\n",
       "    </tr>\n",
       "    <tr>\n",
       "      <th>9</th>\n",
       "      <td>Frazer Town</td>\n",
       "      <td>12.998683</td>\n",
       "      <td>77.615525</td>\n",
       "    </tr>\n",
       "    <tr>\n",
       "      <th>10</th>\n",
       "      <td>HSR</td>\n",
       "      <td>12.900563</td>\n",
       "      <td>77.649475</td>\n",
       "    </tr>\n",
       "    <tr>\n",
       "      <th>11</th>\n",
       "      <td>Indiranagar</td>\n",
       "      <td>12.996298</td>\n",
       "      <td>77.545278</td>\n",
       "    </tr>\n",
       "    <tr>\n",
       "      <th>12</th>\n",
       "      <td>Jayanagar</td>\n",
       "      <td>12.939904</td>\n",
       "      <td>77.582638</td>\n",
       "    </tr>\n",
       "    <tr>\n",
       "      <th>13</th>\n",
       "      <td>JP Nagar</td>\n",
       "      <td>12.909694</td>\n",
       "      <td>77.586607</td>\n",
       "    </tr>\n",
       "    <tr>\n",
       "      <th>14</th>\n",
       "      <td>Kalyan Nagar</td>\n",
       "      <td>13.022142</td>\n",
       "      <td>77.640337</td>\n",
       "    </tr>\n",
       "    <tr>\n",
       "      <th>15</th>\n",
       "      <td>Kammanahalli</td>\n",
       "      <td>13.014854</td>\n",
       "      <td>77.638203</td>\n",
       "    </tr>\n",
       "    <tr>\n",
       "      <th>16</th>\n",
       "      <td>Koramangala 4th Block</td>\n",
       "      <td>12.932778</td>\n",
       "      <td>77.629405</td>\n",
       "    </tr>\n",
       "    <tr>\n",
       "      <th>17</th>\n",
       "      <td>Koramangala 5th Block</td>\n",
       "      <td>12.934843</td>\n",
       "      <td>77.618977</td>\n",
       "    </tr>\n",
       "    <tr>\n",
       "      <th>18</th>\n",
       "      <td>Koramangala 6th Block</td>\n",
       "      <td>12.939025</td>\n",
       "      <td>77.623848</td>\n",
       "    </tr>\n",
       "    <tr>\n",
       "      <th>19</th>\n",
       "      <td>Koramangala 7th Block</td>\n",
       "      <td>12.936485</td>\n",
       "      <td>77.613478</td>\n",
       "    </tr>\n",
       "    <tr>\n",
       "      <th>20</th>\n",
       "      <td>Lavelle Road</td>\n",
       "      <td>12.968340</td>\n",
       "      <td>77.596507</td>\n",
       "    </tr>\n",
       "    <tr>\n",
       "      <th>21</th>\n",
       "      <td>Malleshwaram</td>\n",
       "      <td>13.002735</td>\n",
       "      <td>77.570325</td>\n",
       "    </tr>\n",
       "    <tr>\n",
       "      <th>22</th>\n",
       "      <td>Marathahalli</td>\n",
       "      <td>12.955257</td>\n",
       "      <td>77.698416</td>\n",
       "    </tr>\n",
       "    <tr>\n",
       "      <th>23</th>\n",
       "      <td>MG Road</td>\n",
       "      <td>12.975526</td>\n",
       "      <td>77.606790</td>\n",
       "    </tr>\n",
       "    <tr>\n",
       "      <th>24</th>\n",
       "      <td>New BEL Road</td>\n",
       "      <td>13.039186</td>\n",
       "      <td>77.564284</td>\n",
       "    </tr>\n",
       "    <tr>\n",
       "      <th>25</th>\n",
       "      <td>Old Airport Road</td>\n",
       "      <td>12.960632</td>\n",
       "      <td>77.642500</td>\n",
       "    </tr>\n",
       "  </tbody>\n",
       "</table>\n",
       "</div>"
      ],
      "text/plain": [
       "            listed_incity   Latitude  Longitude\n",
       "0            Banashankari  12.939333  77.553982\n",
       "1       Bannerghatta Road  12.952660  77.605048\n",
       "2            Basavanagudi  12.941726  77.575502\n",
       "3               Bellandur  12.925352  77.675941\n",
       "4            Brigade Road  12.967358  77.606435\n",
       "5             Brookefield  12.963814  77.722437\n",
       "6                     BTM  12.916360  77.604733\n",
       "7           Church Street  12.974914  77.605247\n",
       "8         Electronic City  12.848760  77.648253\n",
       "9             Frazer Town  12.998683  77.615525\n",
       "10                    HSR  12.900563  77.649475\n",
       "11            Indiranagar  12.996298  77.545278\n",
       "12              Jayanagar  12.939904  77.582638\n",
       "13               JP Nagar  12.909694  77.586607\n",
       "14           Kalyan Nagar  13.022142  77.640337\n",
       "15           Kammanahalli  13.014854  77.638203\n",
       "16  Koramangala 4th Block  12.932778  77.629405\n",
       "17  Koramangala 5th Block  12.934843  77.618977\n",
       "18  Koramangala 6th Block  12.939025  77.623848\n",
       "19  Koramangala 7th Block  12.936485  77.613478\n",
       "20           Lavelle Road  12.968340  77.596507\n",
       "21           Malleshwaram  13.002735  77.570325\n",
       "22           Marathahalli  12.955257  77.698416\n",
       "23                MG Road  12.975526  77.606790\n",
       "24           New BEL Road  13.039186  77.564284\n",
       "25       Old Airport Road  12.960632  77.642500"
      ]
     },
     "execution_count": 349,
     "metadata": {},
     "output_type": "execute_result"
    }
   ],
   "source": [
    " \n",
    "\n",
    "\n",
    "data_2 = pd.read_csv(\"/Users/rajeevb/Downloads/Geographical Coordinates.csv\") \n",
    "data_2"
   ]
  },
  {
   "cell_type": "code",
   "execution_count": 351,
   "id": "9871699f-10d8-4e35-9149-c20bcf3c12ea",
   "metadata": {},
   "outputs": [
    {
     "data": {
      "text/html": [
       "<div>\n",
       "<style scoped>\n",
       "    .dataframe tbody tr th:only-of-type {\n",
       "        vertical-align: middle;\n",
       "    }\n",
       "\n",
       "    .dataframe tbody tr th {\n",
       "        vertical-align: top;\n",
       "    }\n",
       "\n",
       "    .dataframe thead th {\n",
       "        text-align: right;\n",
       "    }\n",
       "</style>\n",
       "<table border=\"1\" class=\"dataframe\">\n",
       "  <thead>\n",
       "    <tr style=\"text-align: right;\">\n",
       "      <th></th>\n",
       "      <th>online_order</th>\n",
       "      <th>book_table</th>\n",
       "      <th>rate</th>\n",
       "      <th>votes</th>\n",
       "      <th>rest_type</th>\n",
       "      <th>dish_liked</th>\n",
       "      <th>cuisines</th>\n",
       "      <th>approx_costfor_two_people</th>\n",
       "      <th>listed_intype</th>\n",
       "      <th>listed_incity</th>\n",
       "      <th>Latitude</th>\n",
       "      <th>Longitude</th>\n",
       "    </tr>\n",
       "  </thead>\n",
       "  <tbody>\n",
       "    <tr>\n",
       "      <th>0</th>\n",
       "      <td>Yes</td>\n",
       "      <td>Yes</td>\n",
       "      <td>4.1</td>\n",
       "      <td>775</td>\n",
       "      <td>Casual Dining</td>\n",
       "      <td>Pasta, Lunch Buffet, Masala Papad, Paneer Laja...</td>\n",
       "      <td>North Indian, Mughlai, Chinese</td>\n",
       "      <td>800</td>\n",
       "      <td>Buffet</td>\n",
       "      <td>Banashankari</td>\n",
       "      <td>12.939333</td>\n",
       "      <td>77.553982</td>\n",
       "    </tr>\n",
       "    <tr>\n",
       "      <th>1</th>\n",
       "      <td>Yes</td>\n",
       "      <td>No</td>\n",
       "      <td>4.1</td>\n",
       "      <td>787</td>\n",
       "      <td>Casual Dining</td>\n",
       "      <td>Momos, Lunch Buffet, Chocolate Nirvana, Thai G...</td>\n",
       "      <td>Chinese, North Indian, Thai</td>\n",
       "      <td>800</td>\n",
       "      <td>Buffet</td>\n",
       "      <td>Banashankari</td>\n",
       "      <td>12.939333</td>\n",
       "      <td>77.553982</td>\n",
       "    </tr>\n",
       "    <tr>\n",
       "      <th>2</th>\n",
       "      <td>Yes</td>\n",
       "      <td>No</td>\n",
       "      <td>3.8</td>\n",
       "      <td>918</td>\n",
       "      <td>Cafe, Casual Dining</td>\n",
       "      <td>Churros, Cannelloni, Minestrone Soup, Hot Choc...</td>\n",
       "      <td>Cafe, Mexican, Italian</td>\n",
       "      <td>800</td>\n",
       "      <td>Buffet</td>\n",
       "      <td>Banashankari</td>\n",
       "      <td>12.939333</td>\n",
       "      <td>77.553982</td>\n",
       "    </tr>\n",
       "    <tr>\n",
       "      <th>3</th>\n",
       "      <td>No</td>\n",
       "      <td>No</td>\n",
       "      <td>3.7</td>\n",
       "      <td>88</td>\n",
       "      <td>Quick Bites</td>\n",
       "      <td>Masala Dosa</td>\n",
       "      <td>South Indian, North Indian</td>\n",
       "      <td>300</td>\n",
       "      <td>Buffet</td>\n",
       "      <td>Banashankari</td>\n",
       "      <td>12.939333</td>\n",
       "      <td>77.553982</td>\n",
       "    </tr>\n",
       "    <tr>\n",
       "      <th>4</th>\n",
       "      <td>No</td>\n",
       "      <td>No</td>\n",
       "      <td>3.8</td>\n",
       "      <td>166</td>\n",
       "      <td>Casual Dining</td>\n",
       "      <td>Panipuri, Gol Gappe</td>\n",
       "      <td>North Indian, Rajasthani</td>\n",
       "      <td>600</td>\n",
       "      <td>Buffet</td>\n",
       "      <td>Banashankari</td>\n",
       "      <td>12.939333</td>\n",
       "      <td>77.553982</td>\n",
       "    </tr>\n",
       "    <tr>\n",
       "      <th>...</th>\n",
       "      <td>...</td>\n",
       "      <td>...</td>\n",
       "      <td>...</td>\n",
       "      <td>...</td>\n",
       "      <td>...</td>\n",
       "      <td>...</td>\n",
       "      <td>...</td>\n",
       "      <td>...</td>\n",
       "      <td>...</td>\n",
       "      <td>...</td>\n",
       "      <td>...</td>\n",
       "      <td>...</td>\n",
       "    </tr>\n",
       "    <tr>\n",
       "      <th>51712</th>\n",
       "      <td>No</td>\n",
       "      <td>No</td>\n",
       "      <td>3.6</td>\n",
       "      <td>27</td>\n",
       "      <td>Bar</td>\n",
       "      <td>NaN</td>\n",
       "      <td>Continental</td>\n",
       "      <td>1,500</td>\n",
       "      <td>Pubs and bars</td>\n",
       "      <td>Whitefield</td>\n",
       "      <td>NaN</td>\n",
       "      <td>NaN</td>\n",
       "    </tr>\n",
       "    <tr>\n",
       "      <th>51713</th>\n",
       "      <td>No</td>\n",
       "      <td>No</td>\n",
       "      <td>NaN</td>\n",
       "      <td>0</td>\n",
       "      <td>Bar</td>\n",
       "      <td>NaN</td>\n",
       "      <td>Finger Food</td>\n",
       "      <td>600</td>\n",
       "      <td>Pubs and bars</td>\n",
       "      <td>Whitefield</td>\n",
       "      <td>NaN</td>\n",
       "      <td>NaN</td>\n",
       "    </tr>\n",
       "    <tr>\n",
       "      <th>51714</th>\n",
       "      <td>No</td>\n",
       "      <td>No</td>\n",
       "      <td>NaN</td>\n",
       "      <td>0</td>\n",
       "      <td>Bar</td>\n",
       "      <td>NaN</td>\n",
       "      <td>Finger Food</td>\n",
       "      <td>2,000</td>\n",
       "      <td>Pubs and bars</td>\n",
       "      <td>Whitefield</td>\n",
       "      <td>NaN</td>\n",
       "      <td>NaN</td>\n",
       "    </tr>\n",
       "    <tr>\n",
       "      <th>51715</th>\n",
       "      <td>No</td>\n",
       "      <td>Yes</td>\n",
       "      <td>4.3</td>\n",
       "      <td>236</td>\n",
       "      <td>Bar</td>\n",
       "      <td>Cocktails, Pizza, Buttermilk</td>\n",
       "      <td>Finger Food</td>\n",
       "      <td>2,500</td>\n",
       "      <td>Pubs and bars</td>\n",
       "      <td>Whitefield</td>\n",
       "      <td>NaN</td>\n",
       "      <td>NaN</td>\n",
       "    </tr>\n",
       "    <tr>\n",
       "      <th>51716</th>\n",
       "      <td>No</td>\n",
       "      <td>No</td>\n",
       "      <td>3.4</td>\n",
       "      <td>13</td>\n",
       "      <td>Bar, Casual Dining</td>\n",
       "      <td>NaN</td>\n",
       "      <td>Finger Food, North Indian, Continental</td>\n",
       "      <td>1,500</td>\n",
       "      <td>Pubs and bars</td>\n",
       "      <td>Whitefield</td>\n",
       "      <td>NaN</td>\n",
       "      <td>NaN</td>\n",
       "    </tr>\n",
       "  </tbody>\n",
       "</table>\n",
       "<p>51717 rows × 12 columns</p>\n",
       "</div>"
      ],
      "text/plain": [
       "      online_order book_table  rate  votes            rest_type  \\\n",
       "0              Yes        Yes   4.1    775        Casual Dining   \n",
       "1              Yes         No   4.1    787        Casual Dining   \n",
       "2              Yes         No   3.8    918  Cafe, Casual Dining   \n",
       "3               No         No   3.7     88          Quick Bites   \n",
       "4               No         No   3.8    166        Casual Dining   \n",
       "...            ...        ...   ...    ...                  ...   \n",
       "51712           No         No   3.6     27                  Bar   \n",
       "51713           No         No   NaN      0                  Bar   \n",
       "51714           No         No   NaN      0                  Bar   \n",
       "51715           No        Yes   4.3    236                  Bar   \n",
       "51716           No         No   3.4     13   Bar, Casual Dining   \n",
       "\n",
       "                                              dish_liked  \\\n",
       "0      Pasta, Lunch Buffet, Masala Papad, Paneer Laja...   \n",
       "1      Momos, Lunch Buffet, Chocolate Nirvana, Thai G...   \n",
       "2      Churros, Cannelloni, Minestrone Soup, Hot Choc...   \n",
       "3                                            Masala Dosa   \n",
       "4                                    Panipuri, Gol Gappe   \n",
       "...                                                  ...   \n",
       "51712                                                NaN   \n",
       "51713                                                NaN   \n",
       "51714                                                NaN   \n",
       "51715                       Cocktails, Pizza, Buttermilk   \n",
       "51716                                                NaN   \n",
       "\n",
       "                                     cuisines approx_costfor_two_people  \\\n",
       "0              North Indian, Mughlai, Chinese                       800   \n",
       "1                 Chinese, North Indian, Thai                       800   \n",
       "2                      Cafe, Mexican, Italian                       800   \n",
       "3                  South Indian, North Indian                       300   \n",
       "4                    North Indian, Rajasthani                       600   \n",
       "...                                       ...                       ...   \n",
       "51712                             Continental                     1,500   \n",
       "51713                             Finger Food                       600   \n",
       "51714                             Finger Food                     2,000   \n",
       "51715                             Finger Food                     2,500   \n",
       "51716  Finger Food, North Indian, Continental                     1,500   \n",
       "\n",
       "       listed_intype listed_incity   Latitude  Longitude  \n",
       "0             Buffet  Banashankari  12.939333  77.553982  \n",
       "1             Buffet  Banashankari  12.939333  77.553982  \n",
       "2             Buffet  Banashankari  12.939333  77.553982  \n",
       "3             Buffet  Banashankari  12.939333  77.553982  \n",
       "4             Buffet  Banashankari  12.939333  77.553982  \n",
       "...              ...           ...        ...        ...  \n",
       "51712  Pubs and bars    Whitefield        NaN        NaN  \n",
       "51713  Pubs and bars    Whitefield        NaN        NaN  \n",
       "51714  Pubs and bars    Whitefield        NaN        NaN  \n",
       "51715  Pubs and bars    Whitefield        NaN        NaN  \n",
       "51716  Pubs and bars    Whitefield        NaN        NaN  \n",
       "\n",
       "[51717 rows x 12 columns]"
      ]
     },
     "execution_count": 351,
     "metadata": {},
     "output_type": "execute_result"
    }
   ],
   "source": [
    "merged_file = pd.merge(zomatoData,data_2, on=\"listed_incity\", how=\"left\")\n",
    "merged_file"
   ]
  },
  {
   "cell_type": "code",
   "execution_count": null,
   "id": "d7e28a84-55b9-4d29-b932-dc05cf52a686",
   "metadata": {},
   "outputs": [],
   "source": []
  }
 ],
 "metadata": {
  "kernelspec": {
   "display_name": "Python [conda env:base] *",
   "language": "python",
   "name": "conda-base-py"
  },
  "language_info": {
   "codemirror_mode": {
    "name": "ipython",
    "version": 3
   },
   "file_extension": ".py",
   "mimetype": "text/x-python",
   "name": "python",
   "nbconvert_exporter": "python",
   "pygments_lexer": "ipython3",
   "version": "3.12.7"
  }
 },
 "nbformat": 4,
 "nbformat_minor": 5
}
